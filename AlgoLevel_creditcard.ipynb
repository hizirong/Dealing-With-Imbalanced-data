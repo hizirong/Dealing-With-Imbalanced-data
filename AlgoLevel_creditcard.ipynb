{
  "cells": [
    {
      "cell_type": "code",
      "execution_count": null,
      "metadata": {
        "colab": {
          "base_uri": "https://localhost:8080/"
        },
        "id": "4iSXHNz8b1Ez",
        "outputId": "8a18f19f-876b-4a83-e78b-a2e946e219fb"
      },
      "outputs": [
        {
          "output_type": "stream",
          "name": "stdout",
          "text": [
            "Mounted at /content/drive\n"
          ]
        }
      ],
      "source": [
        "from google.colab import drive\n",
        "drive.mount('/content/drive')"
      ]
    },
    {
      "cell_type": "code",
      "execution_count": null,
      "metadata": {
        "id": "DFVydM2sCx3x"
      },
      "outputs": [],
      "source": [
        "# import\n",
        "import os\n",
        "import time\n",
        "import numpy as np\n",
        "import pandas as pd\n",
        "from sklearn.tree import DecisionTreeClassifier\n",
        "from sklearn.model_selection import train_test_split, cross_validate\n",
        "from sklearn.metrics import accuracy_score,confusion_matrix, make_scorer, recall_score, f1_score, roc_auc_score\n",
        "from imblearn.ensemble import EasyEnsembleClassifier\n",
        "import warnings\n",
        "warnings.filterwarnings('ignore')\n"
      ]
    },
    {
      "cell_type": "markdown",
      "source": [
        "\n",
        "### **資料處理**"
      ],
      "metadata": {
        "id": "qVUje-78h3y3"
      }
    },
    {
      "cell_type": "code",
      "execution_count": null,
      "metadata": {
        "colab": {
          "base_uri": "https://localhost:8080/",
          "height": 253
        },
        "id": "Kz4iNeiFDyBs",
        "outputId": "e4c855c3-a7e4-4b78-9817-d9206d245ae8"
      },
      "outputs": [
        {
          "output_type": "execute_result",
          "data": {
            "text/plain": [
              "   Time        V1        V2        V3        V4        V5        V6        V7  \\\n",
              "0     0 -1.359807 -0.072781  2.536347  1.378155 -0.338321  0.462388  0.239599   \n",
              "1     0  1.191857  0.266151  0.166480  0.448154  0.060018 -0.082361 -0.078803   \n",
              "2     1 -1.358354 -1.340163  1.773209  0.379780 -0.503198  1.800499  0.791461   \n",
              "3     1 -0.966272 -0.185226  1.792993 -0.863291 -0.010309  1.247203  0.237609   \n",
              "4     2 -1.158233  0.877737  1.548718  0.403034 -0.407193  0.095921  0.592941   \n",
              "\n",
              "         V8        V9  ...       V21       V22       V23       V24       V25  \\\n",
              "0  0.098698  0.363787  ... -0.018307  0.277838 -0.110474  0.066928  0.128539   \n",
              "1  0.085102 -0.255425  ... -0.225775 -0.638672  0.101288 -0.339846  0.167170   \n",
              "2  0.247676 -1.514654  ...  0.247998  0.771679  0.909412 -0.689281 -0.327642   \n",
              "3  0.377436 -1.387024  ... -0.108300  0.005274 -0.190321 -1.175575  0.647376   \n",
              "4 -0.270533  0.817739  ... -0.009431  0.798278 -0.137458  0.141267 -0.206010   \n",
              "\n",
              "        V26       V27       V28  Amount  Class  \n",
              "0 -0.189115  0.133558 -0.021053  149.62    0.0  \n",
              "1  0.125895 -0.008983  0.014724    2.69    0.0  \n",
              "2 -0.139097 -0.055353 -0.059752  378.66    0.0  \n",
              "3 -0.221929  0.062723  0.061458  123.50    0.0  \n",
              "4  0.502292  0.219422  0.215153   69.99    0.0  \n",
              "\n",
              "[5 rows x 31 columns]"
            ],
            "text/html": [
              "\n",
              "  <div id=\"df-c7b99f0d-f2f6-4710-a7bf-5956057be107\" class=\"colab-df-container\">\n",
              "    <div>\n",
              "<style scoped>\n",
              "    .dataframe tbody tr th:only-of-type {\n",
              "        vertical-align: middle;\n",
              "    }\n",
              "\n",
              "    .dataframe tbody tr th {\n",
              "        vertical-align: top;\n",
              "    }\n",
              "\n",
              "    .dataframe thead th {\n",
              "        text-align: right;\n",
              "    }\n",
              "</style>\n",
              "<table border=\"1\" class=\"dataframe\">\n",
              "  <thead>\n",
              "    <tr style=\"text-align: right;\">\n",
              "      <th></th>\n",
              "      <th>Time</th>\n",
              "      <th>V1</th>\n",
              "      <th>V2</th>\n",
              "      <th>V3</th>\n",
              "      <th>V4</th>\n",
              "      <th>V5</th>\n",
              "      <th>V6</th>\n",
              "      <th>V7</th>\n",
              "      <th>V8</th>\n",
              "      <th>V9</th>\n",
              "      <th>...</th>\n",
              "      <th>V21</th>\n",
              "      <th>V22</th>\n",
              "      <th>V23</th>\n",
              "      <th>V24</th>\n",
              "      <th>V25</th>\n",
              "      <th>V26</th>\n",
              "      <th>V27</th>\n",
              "      <th>V28</th>\n",
              "      <th>Amount</th>\n",
              "      <th>Class</th>\n",
              "    </tr>\n",
              "  </thead>\n",
              "  <tbody>\n",
              "    <tr>\n",
              "      <th>0</th>\n",
              "      <td>0</td>\n",
              "      <td>-1.359807</td>\n",
              "      <td>-0.072781</td>\n",
              "      <td>2.536347</td>\n",
              "      <td>1.378155</td>\n",
              "      <td>-0.338321</td>\n",
              "      <td>0.462388</td>\n",
              "      <td>0.239599</td>\n",
              "      <td>0.098698</td>\n",
              "      <td>0.363787</td>\n",
              "      <td>...</td>\n",
              "      <td>-0.018307</td>\n",
              "      <td>0.277838</td>\n",
              "      <td>-0.110474</td>\n",
              "      <td>0.066928</td>\n",
              "      <td>0.128539</td>\n",
              "      <td>-0.189115</td>\n",
              "      <td>0.133558</td>\n",
              "      <td>-0.021053</td>\n",
              "      <td>149.62</td>\n",
              "      <td>0.0</td>\n",
              "    </tr>\n",
              "    <tr>\n",
              "      <th>1</th>\n",
              "      <td>0</td>\n",
              "      <td>1.191857</td>\n",
              "      <td>0.266151</td>\n",
              "      <td>0.166480</td>\n",
              "      <td>0.448154</td>\n",
              "      <td>0.060018</td>\n",
              "      <td>-0.082361</td>\n",
              "      <td>-0.078803</td>\n",
              "      <td>0.085102</td>\n",
              "      <td>-0.255425</td>\n",
              "      <td>...</td>\n",
              "      <td>-0.225775</td>\n",
              "      <td>-0.638672</td>\n",
              "      <td>0.101288</td>\n",
              "      <td>-0.339846</td>\n",
              "      <td>0.167170</td>\n",
              "      <td>0.125895</td>\n",
              "      <td>-0.008983</td>\n",
              "      <td>0.014724</td>\n",
              "      <td>2.69</td>\n",
              "      <td>0.0</td>\n",
              "    </tr>\n",
              "    <tr>\n",
              "      <th>2</th>\n",
              "      <td>1</td>\n",
              "      <td>-1.358354</td>\n",
              "      <td>-1.340163</td>\n",
              "      <td>1.773209</td>\n",
              "      <td>0.379780</td>\n",
              "      <td>-0.503198</td>\n",
              "      <td>1.800499</td>\n",
              "      <td>0.791461</td>\n",
              "      <td>0.247676</td>\n",
              "      <td>-1.514654</td>\n",
              "      <td>...</td>\n",
              "      <td>0.247998</td>\n",
              "      <td>0.771679</td>\n",
              "      <td>0.909412</td>\n",
              "      <td>-0.689281</td>\n",
              "      <td>-0.327642</td>\n",
              "      <td>-0.139097</td>\n",
              "      <td>-0.055353</td>\n",
              "      <td>-0.059752</td>\n",
              "      <td>378.66</td>\n",
              "      <td>0.0</td>\n",
              "    </tr>\n",
              "    <tr>\n",
              "      <th>3</th>\n",
              "      <td>1</td>\n",
              "      <td>-0.966272</td>\n",
              "      <td>-0.185226</td>\n",
              "      <td>1.792993</td>\n",
              "      <td>-0.863291</td>\n",
              "      <td>-0.010309</td>\n",
              "      <td>1.247203</td>\n",
              "      <td>0.237609</td>\n",
              "      <td>0.377436</td>\n",
              "      <td>-1.387024</td>\n",
              "      <td>...</td>\n",
              "      <td>-0.108300</td>\n",
              "      <td>0.005274</td>\n",
              "      <td>-0.190321</td>\n",
              "      <td>-1.175575</td>\n",
              "      <td>0.647376</td>\n",
              "      <td>-0.221929</td>\n",
              "      <td>0.062723</td>\n",
              "      <td>0.061458</td>\n",
              "      <td>123.50</td>\n",
              "      <td>0.0</td>\n",
              "    </tr>\n",
              "    <tr>\n",
              "      <th>4</th>\n",
              "      <td>2</td>\n",
              "      <td>-1.158233</td>\n",
              "      <td>0.877737</td>\n",
              "      <td>1.548718</td>\n",
              "      <td>0.403034</td>\n",
              "      <td>-0.407193</td>\n",
              "      <td>0.095921</td>\n",
              "      <td>0.592941</td>\n",
              "      <td>-0.270533</td>\n",
              "      <td>0.817739</td>\n",
              "      <td>...</td>\n",
              "      <td>-0.009431</td>\n",
              "      <td>0.798278</td>\n",
              "      <td>-0.137458</td>\n",
              "      <td>0.141267</td>\n",
              "      <td>-0.206010</td>\n",
              "      <td>0.502292</td>\n",
              "      <td>0.219422</td>\n",
              "      <td>0.215153</td>\n",
              "      <td>69.99</td>\n",
              "      <td>0.0</td>\n",
              "    </tr>\n",
              "  </tbody>\n",
              "</table>\n",
              "<p>5 rows × 31 columns</p>\n",
              "</div>\n",
              "    <div class=\"colab-df-buttons\">\n",
              "\n",
              "  <div class=\"colab-df-container\">\n",
              "    <button class=\"colab-df-convert\" onclick=\"convertToInteractive('df-c7b99f0d-f2f6-4710-a7bf-5956057be107')\"\n",
              "            title=\"Convert this dataframe to an interactive table.\"\n",
              "            style=\"display:none;\">\n",
              "\n",
              "  <svg xmlns=\"http://www.w3.org/2000/svg\" height=\"24px\" viewBox=\"0 -960 960 960\">\n",
              "    <path d=\"M120-120v-720h720v720H120Zm60-500h600v-160H180v160Zm220 220h160v-160H400v160Zm0 220h160v-160H400v160ZM180-400h160v-160H180v160Zm440 0h160v-160H620v160ZM180-180h160v-160H180v160Zm440 0h160v-160H620v160Z\"/>\n",
              "  </svg>\n",
              "    </button>\n",
              "\n",
              "  <style>\n",
              "    .colab-df-container {\n",
              "      display:flex;\n",
              "      gap: 12px;\n",
              "    }\n",
              "\n",
              "    .colab-df-convert {\n",
              "      background-color: #E8F0FE;\n",
              "      border: none;\n",
              "      border-radius: 50%;\n",
              "      cursor: pointer;\n",
              "      display: none;\n",
              "      fill: #1967D2;\n",
              "      height: 32px;\n",
              "      padding: 0 0 0 0;\n",
              "      width: 32px;\n",
              "    }\n",
              "\n",
              "    .colab-df-convert:hover {\n",
              "      background-color: #E2EBFA;\n",
              "      box-shadow: 0px 1px 2px rgba(60, 64, 67, 0.3), 0px 1px 3px 1px rgba(60, 64, 67, 0.15);\n",
              "      fill: #174EA6;\n",
              "    }\n",
              "\n",
              "    .colab-df-buttons div {\n",
              "      margin-bottom: 4px;\n",
              "    }\n",
              "\n",
              "    [theme=dark] .colab-df-convert {\n",
              "      background-color: #3B4455;\n",
              "      fill: #D2E3FC;\n",
              "    }\n",
              "\n",
              "    [theme=dark] .colab-df-convert:hover {\n",
              "      background-color: #434B5C;\n",
              "      box-shadow: 0px 1px 3px 1px rgba(0, 0, 0, 0.15);\n",
              "      filter: drop-shadow(0px 1px 2px rgba(0, 0, 0, 0.3));\n",
              "      fill: #FFFFFF;\n",
              "    }\n",
              "  </style>\n",
              "\n",
              "    <script>\n",
              "      const buttonEl =\n",
              "        document.querySelector('#df-c7b99f0d-f2f6-4710-a7bf-5956057be107 button.colab-df-convert');\n",
              "      buttonEl.style.display =\n",
              "        google.colab.kernel.accessAllowed ? 'block' : 'none';\n",
              "\n",
              "      async function convertToInteractive(key) {\n",
              "        const element = document.querySelector('#df-c7b99f0d-f2f6-4710-a7bf-5956057be107');\n",
              "        const dataTable =\n",
              "          await google.colab.kernel.invokeFunction('convertToInteractive',\n",
              "                                                    [key], {});\n",
              "        if (!dataTable) return;\n",
              "\n",
              "        const docLinkHtml = 'Like what you see? Visit the ' +\n",
              "          '<a target=\"_blank\" href=https://colab.research.google.com/notebooks/data_table.ipynb>data table notebook</a>'\n",
              "          + ' to learn more about interactive tables.';\n",
              "        element.innerHTML = '';\n",
              "        dataTable['output_type'] = 'display_data';\n",
              "        await google.colab.output.renderOutput(dataTable, element);\n",
              "        const docLink = document.createElement('div');\n",
              "        docLink.innerHTML = docLinkHtml;\n",
              "        element.appendChild(docLink);\n",
              "      }\n",
              "    </script>\n",
              "  </div>\n",
              "\n",
              "\n",
              "<div id=\"df-266ccc41-8408-47e3-994f-6e531f6609e3\">\n",
              "  <button class=\"colab-df-quickchart\" onclick=\"quickchart('df-266ccc41-8408-47e3-994f-6e531f6609e3')\"\n",
              "            title=\"Suggest charts\"\n",
              "            style=\"display:none;\">\n",
              "\n",
              "<svg xmlns=\"http://www.w3.org/2000/svg\" height=\"24px\"viewBox=\"0 0 24 24\"\n",
              "     width=\"24px\">\n",
              "    <g>\n",
              "        <path d=\"M19 3H5c-1.1 0-2 .9-2 2v14c0 1.1.9 2 2 2h14c1.1 0 2-.9 2-2V5c0-1.1-.9-2-2-2zM9 17H7v-7h2v7zm4 0h-2V7h2v10zm4 0h-2v-4h2v4z\"/>\n",
              "    </g>\n",
              "</svg>\n",
              "  </button>\n",
              "\n",
              "<style>\n",
              "  .colab-df-quickchart {\n",
              "      --bg-color: #E8F0FE;\n",
              "      --fill-color: #1967D2;\n",
              "      --hover-bg-color: #E2EBFA;\n",
              "      --hover-fill-color: #174EA6;\n",
              "      --disabled-fill-color: #AAA;\n",
              "      --disabled-bg-color: #DDD;\n",
              "  }\n",
              "\n",
              "  [theme=dark] .colab-df-quickchart {\n",
              "      --bg-color: #3B4455;\n",
              "      --fill-color: #D2E3FC;\n",
              "      --hover-bg-color: #434B5C;\n",
              "      --hover-fill-color: #FFFFFF;\n",
              "      --disabled-bg-color: #3B4455;\n",
              "      --disabled-fill-color: #666;\n",
              "  }\n",
              "\n",
              "  .colab-df-quickchart {\n",
              "    background-color: var(--bg-color);\n",
              "    border: none;\n",
              "    border-radius: 50%;\n",
              "    cursor: pointer;\n",
              "    display: none;\n",
              "    fill: var(--fill-color);\n",
              "    height: 32px;\n",
              "    padding: 0;\n",
              "    width: 32px;\n",
              "  }\n",
              "\n",
              "  .colab-df-quickchart:hover {\n",
              "    background-color: var(--hover-bg-color);\n",
              "    box-shadow: 0 1px 2px rgba(60, 64, 67, 0.3), 0 1px 3px 1px rgba(60, 64, 67, 0.15);\n",
              "    fill: var(--button-hover-fill-color);\n",
              "  }\n",
              "\n",
              "  .colab-df-quickchart-complete:disabled,\n",
              "  .colab-df-quickchart-complete:disabled:hover {\n",
              "    background-color: var(--disabled-bg-color);\n",
              "    fill: var(--disabled-fill-color);\n",
              "    box-shadow: none;\n",
              "  }\n",
              "\n",
              "  .colab-df-spinner {\n",
              "    border: 2px solid var(--fill-color);\n",
              "    border-color: transparent;\n",
              "    border-bottom-color: var(--fill-color);\n",
              "    animation:\n",
              "      spin 1s steps(1) infinite;\n",
              "  }\n",
              "\n",
              "  @keyframes spin {\n",
              "    0% {\n",
              "      border-color: transparent;\n",
              "      border-bottom-color: var(--fill-color);\n",
              "      border-left-color: var(--fill-color);\n",
              "    }\n",
              "    20% {\n",
              "      border-color: transparent;\n",
              "      border-left-color: var(--fill-color);\n",
              "      border-top-color: var(--fill-color);\n",
              "    }\n",
              "    30% {\n",
              "      border-color: transparent;\n",
              "      border-left-color: var(--fill-color);\n",
              "      border-top-color: var(--fill-color);\n",
              "      border-right-color: var(--fill-color);\n",
              "    }\n",
              "    40% {\n",
              "      border-color: transparent;\n",
              "      border-right-color: var(--fill-color);\n",
              "      border-top-color: var(--fill-color);\n",
              "    }\n",
              "    60% {\n",
              "      border-color: transparent;\n",
              "      border-right-color: var(--fill-color);\n",
              "    }\n",
              "    80% {\n",
              "      border-color: transparent;\n",
              "      border-right-color: var(--fill-color);\n",
              "      border-bottom-color: var(--fill-color);\n",
              "    }\n",
              "    90% {\n",
              "      border-color: transparent;\n",
              "      border-bottom-color: var(--fill-color);\n",
              "    }\n",
              "  }\n",
              "</style>\n",
              "\n",
              "  <script>\n",
              "    async function quickchart(key) {\n",
              "      const quickchartButtonEl =\n",
              "        document.querySelector('#' + key + ' button');\n",
              "      quickchartButtonEl.disabled = true;  // To prevent multiple clicks.\n",
              "      quickchartButtonEl.classList.add('colab-df-spinner');\n",
              "      try {\n",
              "        const charts = await google.colab.kernel.invokeFunction(\n",
              "            'suggestCharts', [key], {});\n",
              "      } catch (error) {\n",
              "        console.error('Error during call to suggestCharts:', error);\n",
              "      }\n",
              "      quickchartButtonEl.classList.remove('colab-df-spinner');\n",
              "      quickchartButtonEl.classList.add('colab-df-quickchart-complete');\n",
              "    }\n",
              "    (() => {\n",
              "      let quickchartButtonEl =\n",
              "        document.querySelector('#df-266ccc41-8408-47e3-994f-6e531f6609e3 button');\n",
              "      quickchartButtonEl.style.display =\n",
              "        google.colab.kernel.accessAllowed ? 'block' : 'none';\n",
              "    })();\n",
              "  </script>\n",
              "</div>\n",
              "    </div>\n",
              "  </div>\n"
            ],
            "application/vnd.google.colaboratory.intrinsic+json": {
              "type": "dataframe",
              "variable_name": "df"
            }
          },
          "metadata": {},
          "execution_count": 73
        }
      ],
      "source": [
        "# load data\n",
        "df = pd.read_csv('/content/drive/MyDrive/dataset/creditcard.csv')\n",
        "df.head()"
      ]
    },
    {
      "cell_type": "code",
      "source": [
        "# check data\n",
        "data = len(df)\n",
        "nan_count = df.isnull().sum().sum()\n",
        "print('資料量：',data)\n",
        "print('空值：',nan_count)"
      ],
      "metadata": {
        "colab": {
          "base_uri": "https://localhost:8080/"
        },
        "id": "cuXYouGqatBs",
        "outputId": "f237188b-b02e-4295-c7f6-a204e11691fe"
      },
      "execution_count": null,
      "outputs": [
        {
          "output_type": "stream",
          "name": "stdout",
          "text": [
            "資料量： 13954\n",
            "空值： 0\n"
          ]
        }
      ]
    },
    {
      "cell_type": "code",
      "source": [
        "df = df.fillna(df.mean())\n",
        "# df = df.dropna()"
      ],
      "metadata": {
        "id": "4STIi4lehKXS"
      },
      "execution_count": null,
      "outputs": []
    },
    {
      "cell_type": "code",
      "execution_count": null,
      "metadata": {
        "id": "TlFkXI0y1Gof"
      },
      "outputs": [],
      "source": [
        "# 選擇目標變量和特徵變量\n",
        "y = df['Class']\n",
        "X = df.drop(['Class'], axis=1)\n"
      ]
    },
    {
      "cell_type": "code",
      "execution_count": null,
      "metadata": {
        "colab": {
          "base_uri": "https://localhost:8080/"
        },
        "id": "6BLDBYdgSVgq",
        "outputId": "f463d332-d18f-4a80-c137-e11b7b2df614"
      },
      "outputs": [
        {
          "output_type": "stream",
          "name": "stdout",
          "text": [
            "Dimensions: \n",
            " x_train:(11163, 30) \n",
            " x_test(2791, 30) \n",
            " y_train(11163,) \n",
            " y_test(2791,)\n"
          ]
        }
      ],
      "source": [
        "# 分割數據集為訓練集和測試集\n",
        "x_train, x_test, y_train, y_test = train_test_split(X, y, test_size=0.2, random_state=7)\n",
        "print('Dimensions: \\n x_train:{} \\n x_test{} \\n y_train{} \\n y_test{}'.format(x_train.shape, x_test.shape, y_train.shape, y_test.shape))"
      ]
    },
    {
      "cell_type": "code",
      "source": [
        "# @title\n",
        "# 處理缺失值 mean\n",
        "from sklearn.impute import SimpleImputer\n",
        "\n",
        "imputer = SimpleImputer(strategy='mean') # 可以是 'median', 'most_frequent' 等\n",
        "# 選擇目標變量和特徵變量\n",
        "y = df['HeartDiseaseorAttack']\n",
        "X = df.drop(['HeartDiseaseorAttack'], axis=1)\n",
        "\n",
        "# 補齊 X 中的空值\n",
        "X = pd.DataFrame(imputer.fit_transform(X), columns=X.columns)\n"
      ],
      "metadata": {
        "cellView": "form",
        "id": "BG-D9J0lc73a"
      },
      "execution_count": null,
      "outputs": []
    },
    {
      "cell_type": "code",
      "source": [
        "y_train = y_train.astype(int)\n",
        "print('Dimensions: \\n x_train:{} \\n x_test{} \\n y_train{} \\n y_test{}'.format(x_train.shape, x_test.shape, y_train.shape, y_test.shape))"
      ],
      "metadata": {
        "id": "cfLshMYNpu6x",
        "colab": {
          "base_uri": "https://localhost:8080/"
        },
        "outputId": "2907d2ac-a7b9-47de-fdd3-c2f2fe69f126"
      },
      "execution_count": null,
      "outputs": [
        {
          "output_type": "stream",
          "name": "stdout",
          "text": [
            "Dimensions: \n",
            " x_train:(11163, 30) \n",
            " x_test(2791, 30) \n",
            " y_train(11163,) \n",
            " y_test(2791,)\n"
          ]
        }
      ]
    },
    {
      "cell_type": "code",
      "execution_count": null,
      "metadata": {
        "id": "uU4mnWSW1Xhr"
      },
      "outputs": [],
      "source": [
        "# @title SMOTE\n",
        "from imblearn.over_sampling import SMOTE\n",
        "smote = SMOTE(sampling_strategy='auto',  # 自动平衡所有类\n",
        "              k_neighbors=5,             # 使用5个最近邻\n",
        "              random_state=7,           # 确保可重复性\n",
        "              n_jobs=-1)\n",
        "x_train, y_train = smote.fit_resample(x_train, y_train)"
      ]
    },
    {
      "cell_type": "markdown",
      "metadata": {
        "id": "Lb0O9_J5swNO"
      },
      "source": [
        "### **DecisionTreeClassifier**"
      ]
    },
    {
      "cell_type": "code",
      "execution_count": null,
      "metadata": {
        "id": "R-AB1mGrC_qJ"
      },
      "outputs": [],
      "source": [
        "# 使用決策樹作為分類器\n",
        "classifier = DecisionTreeClassifier(random_state=42)"
      ]
    },
    {
      "cell_type": "code",
      "execution_count": null,
      "metadata": {
        "colab": {
          "base_uri": "https://localhost:8080/",
          "height": 74
        },
        "id": "1i53bg6VDCIf",
        "outputId": "fae3177b-d1f5-4434-800e-c0c038da9595"
      },
      "outputs": [
        {
          "output_type": "execute_result",
          "data": {
            "text/plain": [
              "DecisionTreeClassifier(random_state=42)"
            ],
            "text/html": [
              "<style>#sk-container-id-3 {color: black;background-color: white;}#sk-container-id-3 pre{padding: 0;}#sk-container-id-3 div.sk-toggleable {background-color: white;}#sk-container-id-3 label.sk-toggleable__label {cursor: pointer;display: block;width: 100%;margin-bottom: 0;padding: 0.3em;box-sizing: border-box;text-align: center;}#sk-container-id-3 label.sk-toggleable__label-arrow:before {content: \"▸\";float: left;margin-right: 0.25em;color: #696969;}#sk-container-id-3 label.sk-toggleable__label-arrow:hover:before {color: black;}#sk-container-id-3 div.sk-estimator:hover label.sk-toggleable__label-arrow:before {color: black;}#sk-container-id-3 div.sk-toggleable__content {max-height: 0;max-width: 0;overflow: hidden;text-align: left;background-color: #f0f8ff;}#sk-container-id-3 div.sk-toggleable__content pre {margin: 0.2em;color: black;border-radius: 0.25em;background-color: #f0f8ff;}#sk-container-id-3 input.sk-toggleable__control:checked~div.sk-toggleable__content {max-height: 200px;max-width: 100%;overflow: auto;}#sk-container-id-3 input.sk-toggleable__control:checked~label.sk-toggleable__label-arrow:before {content: \"▾\";}#sk-container-id-3 div.sk-estimator input.sk-toggleable__control:checked~label.sk-toggleable__label {background-color: #d4ebff;}#sk-container-id-3 div.sk-label input.sk-toggleable__control:checked~label.sk-toggleable__label {background-color: #d4ebff;}#sk-container-id-3 input.sk-hidden--visually {border: 0;clip: rect(1px 1px 1px 1px);clip: rect(1px, 1px, 1px, 1px);height: 1px;margin: -1px;overflow: hidden;padding: 0;position: absolute;width: 1px;}#sk-container-id-3 div.sk-estimator {font-family: monospace;background-color: #f0f8ff;border: 1px dotted black;border-radius: 0.25em;box-sizing: border-box;margin-bottom: 0.5em;}#sk-container-id-3 div.sk-estimator:hover {background-color: #d4ebff;}#sk-container-id-3 div.sk-parallel-item::after {content: \"\";width: 100%;border-bottom: 1px solid gray;flex-grow: 1;}#sk-container-id-3 div.sk-label:hover label.sk-toggleable__label {background-color: #d4ebff;}#sk-container-id-3 div.sk-serial::before {content: \"\";position: absolute;border-left: 1px solid gray;box-sizing: border-box;top: 0;bottom: 0;left: 50%;z-index: 0;}#sk-container-id-3 div.sk-serial {display: flex;flex-direction: column;align-items: center;background-color: white;padding-right: 0.2em;padding-left: 0.2em;position: relative;}#sk-container-id-3 div.sk-item {position: relative;z-index: 1;}#sk-container-id-3 div.sk-parallel {display: flex;align-items: stretch;justify-content: center;background-color: white;position: relative;}#sk-container-id-3 div.sk-item::before, #sk-container-id-3 div.sk-parallel-item::before {content: \"\";position: absolute;border-left: 1px solid gray;box-sizing: border-box;top: 0;bottom: 0;left: 50%;z-index: -1;}#sk-container-id-3 div.sk-parallel-item {display: flex;flex-direction: column;z-index: 1;position: relative;background-color: white;}#sk-container-id-3 div.sk-parallel-item:first-child::after {align-self: flex-end;width: 50%;}#sk-container-id-3 div.sk-parallel-item:last-child::after {align-self: flex-start;width: 50%;}#sk-container-id-3 div.sk-parallel-item:only-child::after {width: 0;}#sk-container-id-3 div.sk-dashed-wrapped {border: 1px dashed gray;margin: 0 0.4em 0.5em 0.4em;box-sizing: border-box;padding-bottom: 0.4em;background-color: white;}#sk-container-id-3 div.sk-label label {font-family: monospace;font-weight: bold;display: inline-block;line-height: 1.2em;}#sk-container-id-3 div.sk-label-container {text-align: center;}#sk-container-id-3 div.sk-container {/* jupyter's `normalize.less` sets `[hidden] { display: none; }` but bootstrap.min.css set `[hidden] { display: none !important; }` so we also need the `!important` here to be able to override the default hidden behavior on the sphinx rendered scikit-learn.org. See: https://github.com/scikit-learn/scikit-learn/issues/21755 */display: inline-block !important;position: relative;}#sk-container-id-3 div.sk-text-repr-fallback {display: none;}</style><div id=\"sk-container-id-3\" class=\"sk-top-container\"><div class=\"sk-text-repr-fallback\"><pre>DecisionTreeClassifier(random_state=42)</pre><b>In a Jupyter environment, please rerun this cell to show the HTML representation or trust the notebook. <br />On GitHub, the HTML representation is unable to render, please try loading this page with nbviewer.org.</b></div><div class=\"sk-container\" hidden><div class=\"sk-item\"><div class=\"sk-estimator sk-toggleable\"><input class=\"sk-toggleable__control sk-hidden--visually\" id=\"sk-estimator-id-3\" type=\"checkbox\" checked><label for=\"sk-estimator-id-3\" class=\"sk-toggleable__label sk-toggleable__label-arrow\">DecisionTreeClassifier</label><div class=\"sk-toggleable__content\"><pre>DecisionTreeClassifier(random_state=42)</pre></div></div></div></div></div>"
            ]
          },
          "metadata": {},
          "execution_count": 55
        }
      ],
      "source": [
        "# 訓練決策樹模型\n",
        "classifier.fit(x_train, y_train)"
      ]
    },
    {
      "cell_type": "code",
      "execution_count": null,
      "metadata": {
        "colab": {
          "base_uri": "https://localhost:8080/"
        },
        "id": "8zcefqYMDDzu",
        "outputId": "9ac4170a-1225-4d2c-e0a7-cf78b5114e66"
      },
      "outputs": [
        {
          "output_type": "stream",
          "name": "stdout",
          "text": [
            "Accuracy: 0.85\n",
            "Recall: 0.28\n",
            "Recall for 'No': 0.91\n",
            "Recall for 'yes': 0.28\n",
            "F1 Score: 0.26\n"
          ]
        }
      ],
      "source": [
        "# 使用測試集進行預測\n",
        "y_pred = classifier.predict(x_test)\n",
        "\n",
        "t_accuracy = accuracy_score(y_test, y_pred)\n",
        "# 計算召回率並儲存到變數 (假設為二分類問題)\n",
        "t_recall = recall_score(y_test, y_pred, average='binary')\n",
        "tt_recall = recall_score(y_test, y_pred, average=None)\n",
        "\n",
        "# 計算F1分數並儲存到變數 (假設為二分類問題)\n",
        "t_f1 = f1_score(y_test, y_pred, average='binary')\n",
        "\n",
        "# 打印準確率、召回率和F1分數的值\n",
        "print(f\"Accuracy: {t_accuracy:.2f}\")\n",
        "print(f\"Recall: {t_recall:.2f}\")\n",
        "print(f\"Recall for 'No': {tt_recall[0]:.2f}\")\n",
        "print(f\"Recall for 'yes': {tt_recall[1]:.2f}\")\n",
        "print(f\"F1 Score: {t_f1:.2f}\")"
      ]
    },
    {
      "cell_type": "code",
      "source": [
        "from prettytable import PrettyTable\n",
        "from sklearn.metrics import f1_score, confusion_matrix,balanced_accuracy_score,matthews_corrcoef,precision_score\n",
        "import numpy as np\n",
        "\n",
        "y_pred = classifier.predict(x_test)\n",
        "# 假设y_test和y_pred是你的真实标签和预测标签\n",
        "# 根据y_test和y_pred计算所有指标\n",
        "\n",
        "# 创建一个PrettyTable对象\n",
        "pt = PrettyTable()\n",
        "\n",
        "# 添加表头\n",
        "pt.field_names = [\"Class\", \"Precision\", \"Recall\", \"F1-score\", \"Support\"]\n",
        "\n",
        "# 分别计算每个类别的性能指标\n",
        "for i in [0,1]:  # 假设有两个类别，0和1\n",
        "    precision = precision_score(y_test, y_pred, pos_label=i, average='binary')\n",
        "    recall = recall_score(y_test, y_pred, pos_label=i, average='binary')\n",
        "    f1 = f1_score(y_test, y_pred, pos_label=i, average='binary')\n",
        "    support = (y_test == i).sum()\n",
        "    pt.add_row([i, f\"{precision:.2f}\", f\"{recall:.2f}\", f\"{f1:.2f}\", support])\n",
        "\n",
        "# 打印分类报告\n",
        "print(pt)\n",
        "\n",
        "# 打印其他总体指标\n",
        "b_accuracy = accuracy_score(y_test, y_pred)\n",
        "b_balanced_accuracy = balanced_accuracy_score(y_test, y_pred)\n",
        "b_mcc = matthews_corrcoef(y_test, y_pred)\n",
        "\n",
        "print(f\"Accuracy: {b_accuracy:.2f}\")\n",
        "print(f\"Balanced Accuracy: {b_balanced_accuracy:.2f}\")\n",
        "print(f\"Matthews Correlation Coefficient: {b_mcc:.2f}\")\n"
      ],
      "metadata": {
        "colab": {
          "base_uri": "https://localhost:8080/"
        },
        "id": "P0lH8RKweDmT",
        "outputId": "b8d6a3bf-e166-4a44-92a4-fc4663decbd5"
      },
      "execution_count": null,
      "outputs": [
        {
          "output_type": "stream",
          "name": "stdout",
          "text": [
            "+-------+-----------+--------+----------+---------+\n",
            "| Class | Precision | Recall | F1-score | Support |\n",
            "+-------+-----------+--------+----------+---------+\n",
            "|   0   |    0.93   |  0.91  |   0.92   |  14859  |\n",
            "|   1   |    0.24   |  0.28  |   0.26   |   1518  |\n",
            "+-------+-----------+--------+----------+---------+\n",
            "Accuracy: 0.85\n",
            "Balanced Accuracy: 0.59\n",
            "Matthews Correlation Coefficient: 0.18\n"
          ]
        }
      ]
    },
    {
      "cell_type": "markdown",
      "metadata": {
        "id": "rnoAFE93ITou"
      },
      "source": []
    },
    {
      "cell_type": "markdown",
      "metadata": {
        "id": "cgZF8hBXs6Gl"
      },
      "source": [
        "### **EasyEnsembleClassifier**"
      ]
    },
    {
      "cell_type": "code",
      "execution_count": null,
      "metadata": {
        "id": "4jr9rC3pHaBN"
      },
      "outputs": [],
      "source": [
        "def tn(y_true, y_pred): return confusion_matrix(y_true, y_pred)[0, 0]\n",
        "def fp(y_true, y_pred): return confusion_matrix(y_true, y_pred)[0, 1]\n",
        "def fn(y_true, y_pred): return confusion_matrix(y_true, y_pred)[1, 0]\n",
        "def tp(y_true, y_pred): return confusion_matrix(y_true, y_pred)[1, 1]"
      ]
    },
    {
      "cell_type": "code",
      "execution_count": null,
      "metadata": {
        "id": "9pyykGhnIfAG"
      },
      "outputs": [],
      "source": [
        "scorers = {\n",
        "    'Accuracy': 'accuracy',\n",
        "    'roc_auc': 'roc_auc',\n",
        "    'Sensitivity':'recall',\n",
        "    'precision':'precision',\n",
        "    'tp': make_scorer(tp),\n",
        "    'tn': make_scorer(tn),\n",
        "    'fp': make_scorer(fp),\n",
        "    'fn': make_scorer(fn)\n",
        "}"
      ]
    },
    {
      "cell_type": "code",
      "execution_count": null,
      "metadata": {
        "colab": {
          "base_uri": "https://localhost:8080/",
          "height": 74
        },
        "id": "nwLA-D1eIhRb",
        "outputId": "e59bfcb0-8097-4241-fdda-a76364cb4540"
      },
      "outputs": [
        {
          "output_type": "execute_result",
          "data": {
            "text/plain": [
              "EasyEnsembleClassifier(random_state=7)"
            ],
            "text/html": [
              "<style>#sk-container-id-1 {color: black;background-color: white;}#sk-container-id-1 pre{padding: 0;}#sk-container-id-1 div.sk-toggleable {background-color: white;}#sk-container-id-1 label.sk-toggleable__label {cursor: pointer;display: block;width: 100%;margin-bottom: 0;padding: 0.3em;box-sizing: border-box;text-align: center;}#sk-container-id-1 label.sk-toggleable__label-arrow:before {content: \"▸\";float: left;margin-right: 0.25em;color: #696969;}#sk-container-id-1 label.sk-toggleable__label-arrow:hover:before {color: black;}#sk-container-id-1 div.sk-estimator:hover label.sk-toggleable__label-arrow:before {color: black;}#sk-container-id-1 div.sk-toggleable__content {max-height: 0;max-width: 0;overflow: hidden;text-align: left;background-color: #f0f8ff;}#sk-container-id-1 div.sk-toggleable__content pre {margin: 0.2em;color: black;border-radius: 0.25em;background-color: #f0f8ff;}#sk-container-id-1 input.sk-toggleable__control:checked~div.sk-toggleable__content {max-height: 200px;max-width: 100%;overflow: auto;}#sk-container-id-1 input.sk-toggleable__control:checked~label.sk-toggleable__label-arrow:before {content: \"▾\";}#sk-container-id-1 div.sk-estimator input.sk-toggleable__control:checked~label.sk-toggleable__label {background-color: #d4ebff;}#sk-container-id-1 div.sk-label input.sk-toggleable__control:checked~label.sk-toggleable__label {background-color: #d4ebff;}#sk-container-id-1 input.sk-hidden--visually {border: 0;clip: rect(1px 1px 1px 1px);clip: rect(1px, 1px, 1px, 1px);height: 1px;margin: -1px;overflow: hidden;padding: 0;position: absolute;width: 1px;}#sk-container-id-1 div.sk-estimator {font-family: monospace;background-color: #f0f8ff;border: 1px dotted black;border-radius: 0.25em;box-sizing: border-box;margin-bottom: 0.5em;}#sk-container-id-1 div.sk-estimator:hover {background-color: #d4ebff;}#sk-container-id-1 div.sk-parallel-item::after {content: \"\";width: 100%;border-bottom: 1px solid gray;flex-grow: 1;}#sk-container-id-1 div.sk-label:hover label.sk-toggleable__label {background-color: #d4ebff;}#sk-container-id-1 div.sk-serial::before {content: \"\";position: absolute;border-left: 1px solid gray;box-sizing: border-box;top: 0;bottom: 0;left: 50%;z-index: 0;}#sk-container-id-1 div.sk-serial {display: flex;flex-direction: column;align-items: center;background-color: white;padding-right: 0.2em;padding-left: 0.2em;position: relative;}#sk-container-id-1 div.sk-item {position: relative;z-index: 1;}#sk-container-id-1 div.sk-parallel {display: flex;align-items: stretch;justify-content: center;background-color: white;position: relative;}#sk-container-id-1 div.sk-item::before, #sk-container-id-1 div.sk-parallel-item::before {content: \"\";position: absolute;border-left: 1px solid gray;box-sizing: border-box;top: 0;bottom: 0;left: 50%;z-index: -1;}#sk-container-id-1 div.sk-parallel-item {display: flex;flex-direction: column;z-index: 1;position: relative;background-color: white;}#sk-container-id-1 div.sk-parallel-item:first-child::after {align-self: flex-end;width: 50%;}#sk-container-id-1 div.sk-parallel-item:last-child::after {align-self: flex-start;width: 50%;}#sk-container-id-1 div.sk-parallel-item:only-child::after {width: 0;}#sk-container-id-1 div.sk-dashed-wrapped {border: 1px dashed gray;margin: 0 0.4em 0.5em 0.4em;box-sizing: border-box;padding-bottom: 0.4em;background-color: white;}#sk-container-id-1 div.sk-label label {font-family: monospace;font-weight: bold;display: inline-block;line-height: 1.2em;}#sk-container-id-1 div.sk-label-container {text-align: center;}#sk-container-id-1 div.sk-container {/* jupyter's `normalize.less` sets `[hidden] { display: none; }` but bootstrap.min.css set `[hidden] { display: none !important; }` so we also need the `!important` here to be able to override the default hidden behavior on the sphinx rendered scikit-learn.org. See: https://github.com/scikit-learn/scikit-learn/issues/21755 */display: inline-block !important;position: relative;}#sk-container-id-1 div.sk-text-repr-fallback {display: none;}</style><div id=\"sk-container-id-1\" class=\"sk-top-container\"><div class=\"sk-text-repr-fallback\"><pre>EasyEnsembleClassifier(random_state=7)</pre><b>In a Jupyter environment, please rerun this cell to show the HTML representation or trust the notebook. <br />On GitHub, the HTML representation is unable to render, please try loading this page with nbviewer.org.</b></div><div class=\"sk-container\" hidden><div class=\"sk-item\"><div class=\"sk-estimator sk-toggleable\"><input class=\"sk-toggleable__control sk-hidden--visually\" id=\"sk-estimator-id-1\" type=\"checkbox\" checked><label for=\"sk-estimator-id-1\" class=\"sk-toggleable__label sk-toggleable__label-arrow\">EasyEnsembleClassifier</label><div class=\"sk-toggleable__content\"><pre>EasyEnsembleClassifier(random_state=7)</pre></div></div></div></div></div>"
            ]
          },
          "metadata": {},
          "execution_count": 24
        }
      ],
      "source": [
        "# from sklearn.linear_model import LogisticRegression\n",
        "# logreg = LogisticRegression()\n",
        "ez = EasyEnsembleClassifier(n_estimators=10,random_state=7)#base_estimator=logreg,\n",
        "ez.fit(x_train, y_train)#ez.fit(x_train, y_train)"
      ]
    },
    {
      "cell_type": "code",
      "execution_count": null,
      "metadata": {
        "colab": {
          "base_uri": "https://localhost:8080/"
        },
        "id": "qyRBn6W1TW2S",
        "outputId": "fc390bca-d4f3-4b80-f7e7-0d74fd41d0d9"
      },
      "outputs": [
        {
          "output_type": "stream",
          "name": "stdout",
          "text": [
            "+-------+-----------+--------+----------+---------+\n",
            "| Class | Precision | Recall | F1-score | Support |\n",
            "+-------+-----------+--------+----------+---------+\n",
            "|   0   |    0.97   |  0.75  |   0.85   |  14859  |\n",
            "|   1   |    0.24   |  0.78  |   0.37   |   1518  |\n",
            "+-------+-----------+--------+----------+---------+\n",
            "Accuracy: 0.76\n",
            "Balanced Accuracy: 0.77\n",
            "Matthews Correlation Coefficient: 0.34\n",
            "Recall: 0.78\n",
            "Precision: 0.24\n",
            "F1-score: 0.37\n",
            "gmean: 0.77\n"
          ]
        }
      ],
      "source": [
        "from prettytable import PrettyTable\n",
        "from sklearn.metrics import f1_score, confusion_matrix,balanced_accuracy_score,matthews_corrcoef,precision_score\n",
        "import numpy as np\n",
        "\n",
        "y_pred = ez.predict(x_test)\n",
        "\n",
        "# PrettyTable\n",
        "pt = PrettyTable()\n",
        "\n",
        "# 添加表头\n",
        "pt.field_names = [\"Class\", \"Precision\", \"Recall\", \"F1-score\", \"Support\"]\n",
        "\n",
        "# 分别计算每个类别的性能指标\n",
        "for i in [0,1]:  # 假设有两个类别，0和1\n",
        "    precision = precision_score(y_test, y_pred, pos_label=i, average='binary')\n",
        "    recall = recall_score(y_test, y_pred, pos_label=i, average='binary')\n",
        "    f1 = f1_score(y_test, y_pred, pos_label=i, average='binary')\n",
        "    support = (y_test == i).sum()\n",
        "    pt.add_row([i, f\"{precision:.2f}\", f\"{recall:.2f}\", f\"{f1:.2f}\", support])\n",
        "\n",
        "# 打印分类报告\n",
        "print(pt)\n",
        "\n",
        "# 打印其他总体指标\n",
        "ez_accuracy = accuracy_score(y_test, y_pred)\n",
        "ez_balanced_accuracy = balanced_accuracy_score(y_test, y_pred)\n",
        "ez_mcc = matthews_corrcoef(y_test, y_pred)\n",
        "ez_precision = precision_score(y_test, y_pred, average='binary')\n",
        "ez_recall = recall_score(y_test, y_pred, average='binary')\n",
        "ez_f1 = f1_score(y_test, y_pred,average='binary')\n",
        "# 手动计算G-mean\n",
        "def gmean_manual(y_true, y_pred):\n",
        "    cm = confusion_matrix(y_true, y_pred)\n",
        "    sensitivity = cm[1, 1] / (cm[1, 0] + cm[1, 1])\n",
        "    specificity = cm[0, 0] / (cm[0, 0] + cm[0, 1])\n",
        "    return np.sqrt(sensitivity * specificity)\n",
        "\n",
        "ez_gmean = gmean_manual(y_test, y_pred)\n",
        "\n",
        "print(f\"Accuracy: {ez_accuracy:.2f}\")\n",
        "print(f\"Balanced Accuracy: {ez_balanced_accuracy:.2f}\")\n",
        "print(f\"Matthews Correlation Coefficient: {ez_mcc:.2f}\")\n",
        "print(f\"Recall: {ez_recall:.2f}\")\n",
        "print(f\"Precision: {ez_precision:.2f}\")\n",
        "print(f\"F1-score: {ez_f1:.2f}\")\n",
        "print(f\"gmean: {ez_gmean:.2f}\")\n",
        "\n"
      ]
    },
    {
      "cell_type": "code",
      "execution_count": null,
      "metadata": {
        "id": "6USyBv1myq36",
        "cellView": "form"
      },
      "outputs": [],
      "source": [
        "# @title\n",
        "# 使用predict_proba获得属于正类的概率\n",
        "probabilities = ez.predict_proba(x_test)[:, 1]\n",
        "\n",
        "# 设置阈值\n",
        "threshold = 0.6\n",
        "\n",
        "# 根据阈值调整预测结果：如果正类的概率大于或等于0.4，则预测为正类（1），否则为负类（0）\n",
        "y_pred = (probabilities >= threshold).astype(int)"
      ]
    },
    {
      "cell_type": "code",
      "execution_count": null,
      "metadata": {
        "id": "6tnK0XNjyBqW",
        "cellView": "form"
      },
      "outputs": [],
      "source": [
        "# @title\n",
        "# 使用predict_proba获得属于正类的概率\n",
        "probabilities = ez.predict_proba(x_test)[:, 1]\n",
        "\n",
        "# 定义一个函数来根据不同的阈值计算精确率和召回率\n",
        "def calculate_metrics(y_true, probabilities, threshold):\n",
        "    # 根据阈值调整预测结果\n",
        "    predictions = (probabilities >= threshold).astype(int)\n",
        "\n",
        "    # 计算精确率和召回率\n",
        "    precision = precision_score(y_true, predictions)\n",
        "    recall = recall_score(y_true, predictions)\n",
        "\n",
        "    return precision, recall\n",
        "\n",
        "# 尝试不同的阈值\n",
        "thresholds = np.arange(0.1, 1, 0.1)\n",
        "for threshold in thresholds:\n",
        "    precision, recall = calculate_metrics(y_test, probabilities, threshold)\n",
        "    print(f\"Threshold: {threshold:.1f}, Precision: {precision:.2f}, Recall: {recall:.2f}\")"
      ]
    },
    {
      "cell_type": "code",
      "execution_count": null,
      "metadata": {
        "colab": {
          "base_uri": "https://localhost:8080/"
        },
        "id": "JOhBrxHujj9d",
        "outputId": "9229b1d9-e88d-46d0-9457-a55b6cfff4b0"
      },
      "outputs": [
        {
          "output_type": "stream",
          "name": "stdout",
          "text": [
            "Easy Ensemble result : \n",
            " \n",
            "Accuracy: 0.99\n",
            "Balanced Accuracy: 0.89\n",
            "Recall: 0.80\n",
            "Precision: 0.26\n",
            "G-Mean: 0.89\n",
            "ROC AUC: 0.89\n",
            "F1 Score: 0.39\n",
            "Matthews Correlation Coefficient: 0.45237112254784984\n"
          ]
        }
      ],
      "source": [
        "from sklearn.metrics import accuracy_score, balanced_accuracy_score, recall_score, precision_score,matthews_corrcoef\n",
        "\n",
        "y_pred = ez.predict(x_test)\n",
        "\n",
        "ez_accuracy = accuracy_score(y_test, y_pred)\n",
        "ez_balanced_accuracy = balanced_accuracy_score(y_test, y_pred)\n",
        "ez_recall = recall_score(y_test, y_pred, average='binary')\n",
        "ez_recall2 = recall_score(y_test, y_pred, average=None)\n",
        "ez_precision = precision_score(y_test, y_pred, average='binary')\n",
        "ez_f1 = f1_score(y_test, y_pred, average='binary')\n",
        "ez_roc_auc = roc_auc_score(y_test, y_pred)\n",
        "\n",
        "# 手动计算G-mean\n",
        "def gmean_manual(y_true, y_pred):\n",
        "    cm = confusion_matrix(y_true, y_pred)\n",
        "    sensitivity = cm[1, 1] / (cm[1, 0] + cm[1, 1])\n",
        "    specificity = cm[0, 0] / (cm[0, 0] + cm[0, 1])\n",
        "    return np.sqrt(sensitivity * specificity)\n",
        "\n",
        "ez_gmean = gmean_manual(y_test, y_pred)\n",
        "ez_mcc = matthews_corrcoef(y_test, y_pred)\n",
        "\n",
        "# 打印结果\n",
        "print('Easy Ensemble result : \\n ')\n",
        "print(f\"Accuracy: {ez_accuracy:.2f}\")\n",
        "print(f\"Balanced Accuracy: {ez_balanced_accuracy:.2f}\")\n",
        "print(f\"Recall: {ez_recall:.2f}\")\n",
        "# print(f\"Recall for yes: {ez_recall2[1]:.2f}\")\n",
        "# print(f\"Recall for no: {ez_recall2[0]:.2f}\")\n",
        "print(f\"Precision: {ez_precision:.2f}\")\n",
        "print(f\"G-Mean: {ez_gmean:.2f}\")\n",
        "print(f\"ROC AUC: {ez_roc_auc:.2f}\")\n",
        "print(f\"F1 Score: {ez_f1:.2f}\")\n",
        "print(\"Matthews Correlation Coefficient:\", ez_mcc)"
      ]
    },
    {
      "cell_type": "code",
      "execution_count": null,
      "metadata": {
        "id": "MWSqxrRmh327"
      },
      "outputs": [],
      "source": [
        "#change this name here to change the print name\n",
        "classifier_name = 'Easy Ensemble'\n",
        "\n",
        "start_ts=time.time()\n",
        "#try swapping out the classifier for random forest instead\n",
        "#clf = RandomForestClassifier(n_estimators=200, max_depth=None, min_samples_split=3,criterion='entropy', class_weight='balanced', random_state=random_state)\n",
        "clf = EasyEnsembleClassifier(n_estimators=10)\n",
        "scores = cross_validate(clf, X, y, scoring=scorers, cv=5)\n",
        "\n",
        "Sensitivity = round(scores['test_tp'].mean() / (scores['test_tp'].mean() + scores['test_fn'].mean()),3)*100   #TP/(TP+FN) also recall\n",
        "Specificity = round(scores['test_tn'].mean() / (scores['test_tn'].mean() + scores['test_fp'].mean()),3)*100    #TN/(TN+FP)\n",
        "PPV = round(scores['test_tp'].mean() / (scores['test_tp'].mean() + scores['test_fp'].mean()),3)*100           #PPV = tp/(tp+fp) also precision\n",
        "NPV = round(scores['test_tn'].mean() / (scores['test_fn'].mean() + scores['test_tn'].mean()),3)*100           #TN(FN+TN)\n",
        "\n",
        "scores_Acc = scores['test_Accuracy']\n",
        "print(f\"{classifier_name} Acc: %0.2f (+/- %0.2f)\" % (scores_Acc.mean(), scores_Acc.std() * 2))\n",
        "scores_AUC = scores['test_roc_auc']                                                                     #Only works with binary classes, not multiclass\n",
        "print(f\"{classifier_name} AUC: %0.2f (+/- %0.2f)\" % (scores_AUC.mean(), scores_AUC.std() * 2))\n",
        "scores_sensitivity = scores['test_Sensitivity']                                                                     #Only works with binary classes, not multiclass\n",
        "print(f\"{classifier_name} Recall: %0.2f (+/- %0.2f)\" % (scores_sensitivity.mean(), scores_sensitivity.std() * 2))\n",
        "scores_precision = scores['test_precision']                                                                     #Only works with binary classes, not multiclass\n",
        "print(f\"{classifier_name} Precision: %0.2f (+/- %0.2f)\" % (scores_precision.mean(), scores_precision.std() * 2))\n",
        "print(f\"{classifier_name} Sensitivity = \", Sensitivity, \"%\")\n",
        "print(f\"{classifier_name} Specificity = \", Specificity, \"%\")\n",
        "print(f\"{classifier_name} PPV = \", PPV, \"%\")\n",
        "print(f\"{classifier_name} NPV = \", NPV, \"%\")\n",
        "\n",
        "print(\"CV Runtime:\", time.time()-start_ts)"
      ]
    },
    {
      "cell_type": "markdown",
      "metadata": {
        "id": "wigU0436tJex"
      },
      "source": [
        "### **MEBoost**"
      ]
    },
    {
      "cell_type": "code",
      "execution_count": null,
      "metadata": {
        "id": "vTu5o0PGOTMd"
      },
      "outputs": [],
      "source": [
        "import numpy as np\n",
        "from imblearn.over_sampling import RandomOverSampler, SMOTE\n",
        "from imblearn.under_sampling import (AllKNN, ClusterCentroids, CondensedNearestNeighbour,\n",
        "                                     NeighbourhoodCleaningRule, EditedNearestNeighbours,\n",
        "                                     RepeatedEditedNearestNeighbours, RandomUnderSampler)\n",
        "from sklearn.cluster import KMeans\n",
        "from sklearn.ensemble import AdaBoostClassifier, ExtraTreesClassifier, RandomForestClassifier\n",
        "# from sklearn.metrics import accuracy_score, precision_score, recall_score, f1_score, classification_report\n",
        "from sklearn.neighbors import KNeighborsClassifier, KDTree\n",
        "from sklearn.svm import SVC\n",
        "from sklearn.tree import DecisionTreeClassifier, ExtraTreeClassifier\n",
        "from sklearn.metrics import roc_auc_score, precision_score, recall_score, f1_score\n",
        "# from sklearn.utils.class_weight import compute_class_weight\n",
        "import logging\n",
        "\n"
      ]
    },
    {
      "cell_type": "code",
      "execution_count": null,
      "metadata": {
        "id": "bpVXhspvOVJt"
      },
      "outputs": [],
      "source": [
        "class MEBoost:\n",
        "\n",
        "    def __init__(self, n_estimators, depth, split, neighbours):\n",
        "        self.M = n_estimators\n",
        "        self.depth = depth\n",
        "        self.split = split\n",
        "\n",
        "    def customSampler(self, X, Y):\n",
        "        sampler = RandomUnderSampler(random_state=42)\n",
        "        X_sampled, y_sampled = sampler.fit_resample(X, Y)\n",
        "        return X_sampled, y_sampled\n",
        "\n",
        "    def fit(self, X, Y):\n",
        "        # 训练模型的主要函数\n",
        "        self.models = []  # 用于存储每一轮训练得到的模型\n",
        "        self.alphas = []  # 用于存储每个模型的权重\n",
        "\n",
        "        best_alpha = []\n",
        "        best_tree = []\n",
        "\n",
        "        top_score = 0\n",
        "\n",
        "        N, _ = X.shape\n",
        "        W = np.ones(N) / N  # 初始化样本权重，均等分配\n",
        "\n",
        "        for m in range(self.M):\n",
        "            # 交替使用决策树和额外树分类器\n",
        "            if m % 2 == 0:\n",
        "                tree = DecisionTreeClassifier(max_depth=self.depth, min_samples_split=self.split)\n",
        "            else:\n",
        "                tree = ExtraTreeClassifier(max_depth=self.depth, min_samples_split=self.split)\n",
        "\n",
        "            # 调用自定义采样方法\n",
        "            X_undersampled, y_undersampled = self.customSampler(X, Y)\n",
        "\n",
        "            # 使用采样后的数据和对应的样本权重训练模型\n",
        "            tree.fit(X_undersampled, y_undersampled, sample_weight=W[:len(X_undersampled)])\n",
        "\n",
        "            # 使用模型进行预测\n",
        "            P = tree.predict(X)\n",
        "            # 计算误差\n",
        "            err = np.sum(W[P != Y])\n",
        "\n",
        "            if err > 0.5:\n",
        "                continue  # 如果误差过大，则跳过本轮\n",
        "            if err <= 0:\n",
        "                err = 0.00000001  # 避免除以零的错误\n",
        "\n",
        "            # 计算模型权重alpha，使用经典的Boosting公式\n",
        "            alpha = 0.5 * np.log((1 - err) / err) if err != 0 else 0\n",
        "            W = W * np.exp(-alpha * Y * P)  # 更新样本权重\n",
        "            W = W / W.sum()  # 归一化样本权重\n",
        "\n",
        "            self.models.append(tree)\n",
        "            self.alphas.append(alpha)\n",
        "\n",
        "            # 计算当前所有模型的集成预测性能，记录最佳性能的模型和权重\n",
        "            FX = np.zeros(N)\n",
        "            for alpha, tree in zip(self.alphas, self.models):\n",
        "                FX += alpha * tree.predict(X)\n",
        "            FX = np.sign(FX)\n",
        "            score = roc_auc_score(Y, FX)\n",
        "            if top_score < score:\n",
        "                top_score = score\n",
        "                best_alpha = self.alphas\n",
        "                best_tree = self.models\n",
        "\n",
        "        self.alphas = best_alpha  # 保存最佳模型权重\n",
        "        self.models = best_tree  # 保存最佳模型\n",
        "    def predict2(self, X): #原本的程式碼\n",
        "        # 根据训练好的模型预测数据X的标签\n",
        "        N, _ = X.shape\n",
        "        FX = np.zeros(N)\n",
        "        for alpha, tree in zip(self.alphas, self.models):\n",
        "            FX += alpha * tree.predict(X)\n",
        "        return np.sign(FX), FX  # 返回预测结果和加权和\n",
        "\n",
        "    def predict(self, X, threshold=0.5): #加入threshold\n",
        "        # 根據訓練好的模型預測數據X的標籤\n",
        "        N, _ = X.shape\n",
        "        FX = np.zeros(N)\n",
        "        for alpha, tree in zip(self.alphas, self.models):\n",
        "            # 樹模型的預測通常是 0 (表示負類) 或 1 (表示正類)\n",
        "            # 我們通過減去0.5並乘以2來轉換為 -1 (負類) 或 1 (正類)\n",
        "            FX += alpha * (tree.predict(X) * 2 - 1)\n",
        "        # 將加權和轉換為平均預測機率\n",
        "        FX /= sum(self.alphas)\n",
        "        # 使用自定義的閾值來決定類別\n",
        "        predictions = np.where(FX >= threshold, 1, 0)\n",
        "        return predictions\n",
        "\n",
        "    def predict_proba(self, X):\n",
        "        # 预测数据X属于每个类别的概率\n",
        "        proba = np.zeros((X.shape[0], 2))  # 初始化概率数组\n",
        "        for model, alpha in zip(self.models, self.alphas):\n",
        "            model_proba = model.predict_proba(X)\n",
        "            proba += model_proba * alpha  # 累加加权概率\n",
        "\n",
        "        proba_sum = np.sum(proba, axis=1)[:, np.newaxis]\n",
        "        proba /= proba_sum  # 归一化概率\n",
        "\n",
        "        return proba\n",
        "\n"
      ]
    },
    {
      "cell_type": "code",
      "execution_count": null,
      "metadata": {
        "id": "TI3QaoIvOXHC"
      },
      "outputs": [],
      "source": [
        "# 初始化MEBoost實例\n",
        "meboost = MEBoost(n_estimators=50, depth=10, split=5, neighbours=3)\n",
        "\n",
        "# 使用訓練數據訓練模型\n",
        "meboost.fit(x_train, y_train)\n",
        "\n"
      ]
    },
    {
      "cell_type": "code",
      "execution_count": null,
      "metadata": {
        "colab": {
          "base_uri": "https://localhost:8080/"
        },
        "id": "pSm6-WmglW7I",
        "outputId": "b00149e4-ca2f-450f-a731-821b0fe8156d"
      },
      "outputs": [
        {
          "output_type": "stream",
          "name": "stdout",
          "text": [
            "MEBoost+ SMOTE: \n",
            "\n",
            "Accuracy: 1.00\n",
            "Balanced Accuracy: 0.90\n",
            "Recall: 0.80\n",
            "Precision: 1.00\n",
            "G-Mean: 0.89\n",
            "ROC AUC: 0.90\n",
            "F1 Score: 0.89\n",
            "Matthews Correlation Coefficient: 0.8939442823760344\n"
          ]
        }
      ],
      "source": [
        "from sklearn.metrics import accuracy_score, balanced_accuracy_score, recall_score, precision_score\n",
        "from sklearn.metrics import matthews_corrcoef\n",
        "\n",
        "y_pred = meboost.predict(x_test)\n",
        "# y_pred, _ = meboost.predict(x_test)\n",
        "\n",
        "# 计算各个指标\n",
        "me_accuracy = accuracy_score(y_test, y_pred)\n",
        "me_balanced_accuracy = balanced_accuracy_score(y_test, y_pred)\n",
        "me_recall = recall_score(y_test, y_pred, average='binary')\n",
        "# me_recall2 = recall_score(y_test, y_pred, average=None)\n",
        "me_precision = precision_score(y_test, y_pred, average='binary')\n",
        "me_f1 = f1_score(y_test, y_pred, average='binary')\n",
        "me_roc_auc = roc_auc_score(y_test, y_pred)\n",
        "\n",
        "# 手动计算G-mean\n",
        "def gmean_manual(y_true, y_pred):\n",
        "    cm = confusion_matrix(y_true, y_pred)\n",
        "    sensitivity = cm[1, 1] / (cm[1, 0] + cm[1, 1])\n",
        "    specificity = cm[0, 0] / (cm[0, 0] + cm[0, 1])\n",
        "    return np.sqrt(sensitivity * specificity)\n",
        "\n",
        "me_gmean = gmean_manual(y_test, y_pred)\n",
        "\n",
        "me_mcc = matthews_corrcoef(y_test, y_pred)\n",
        "\n",
        "# 打印结果\n",
        "print('MEBoost+ SMOTE: \\n')\n",
        "print(f\"Accuracy: {me_accuracy:.2f}\")\n",
        "print(f\"Balanced Accuracy: {me_balanced_accuracy:.2f}\")\n",
        "print(f\"Recall: {me_recall:.2f}\")\n",
        "# print(f\"Recall for yes: {me_recall2[1]:.2f}\")\n",
        "# print(f\"Recall for no: {me_recall2[0]:.2f}\")\n",
        "print(f\"Precision: {me_precision:.2f}\")\n",
        "print(f\"G-Mean: {me_gmean:.2f}\")\n",
        "print(f\"ROC AUC: {me_roc_auc:.2f}\")\n",
        "print(f\"F1 Score: {me_f1:.2f}\")\n",
        "print(\"Matthews Correlation Coefficient:\", me_mcc)"
      ]
    },
    {
      "cell_type": "code",
      "execution_count": null,
      "metadata": {
        "colab": {
          "base_uri": "https://localhost:8080/"
        },
        "id": "_KHccC7J8Oh3",
        "outputId": "870c0242-d007-4ca4-c4bb-3b7d53ce1ad3"
      },
      "outputs": [
        {
          "output_type": "stream",
          "name": "stdout",
          "text": [
            "+-------+-----------+--------+----------+---------+\n",
            "| Class | Precision | Recall | F1-score | Support |\n",
            "+-------+-----------+--------+----------+---------+\n",
            "|   0   |    0.98   |  0.47  |   0.63   |  14859  |\n",
            "|   1   |    0.15   |  0.90  |   0.25   |   1518  |\n",
            "+-------+-----------+--------+----------+---------+\n",
            "Accuracy: 0.51\n",
            "Balanced Accuracy: 0.68\n",
            "Matthews Correlation Coefficient: 0.22\n",
            "Recall: 0.90\n",
            "Precision: 0.15\n",
            "F1-score: 0.25\n"
          ]
        }
      ],
      "source": [
        "from prettytable import PrettyTable\n",
        "from sklearn.metrics import f1_score, confusion_matrix,balanced_accuracy_score,matthews_corrcoef\n",
        "import numpy as np\n",
        "\n",
        "\n",
        "# 使用測試數據進行預測\n",
        "y_pred, _ = meboost.predict(x_test)\n",
        "\n",
        "# 创建一个PrettyTable对象\n",
        "pt = PrettyTable()\n",
        "\n",
        "# 添加表头\n",
        "pt.field_names = [\"Class\", \"Precision\", \"Recall\", \"F1-score\", \"Support\"]\n",
        "\n",
        "# 分别计算每个类别的性能指标\n",
        "for i in [0,1]:  # 假设有两个类别，0和1\n",
        "    precision = precision_score(y_test, y_pred, pos_label=i, average='binary')\n",
        "    recall = recall_score(y_test, y_pred, pos_label=i, average='binary')\n",
        "    f1 = f1_score(y_test, y_pred, pos_label=i, average='binary')\n",
        "    support = (y_test == i).sum()\n",
        "    pt.add_row([i, f\"{precision:.2f}\", f\"{recall:.2f}\", f\"{f1:.2f}\", support])\n",
        "\n",
        "# 打印分类报告\n",
        "print(pt)\n",
        "\n",
        "# 打印其他总体指标\n",
        "me_accuracy = accuracy_score(y_test, y_pred)\n",
        "me_balanced_accuracy = balanced_accuracy_score(y_test, y_pred)\n",
        "me_mcc = matthews_corrcoef(y_test, y_pred)\n",
        "me_precision = precision_score(y_test, y_pred, average='binary')\n",
        "me_recall = recall_score(y_test, y_pred, average='binary')\n",
        "me_f1 = f1_score(y_test, y_pred,average='binary')\n",
        "# 手动计算G-mean\n",
        "def gmean_manual(y_true, y_pred):\n",
        "    cm = confusion_matrix(y_true, y_pred)\n",
        "    sensitivity = cm[1, 1] / (cm[1, 0] + cm[1, 1])\n",
        "    specificity = cm[0, 0] / (cm[0, 0] + cm[0, 1])\n",
        "    return np.sqrt(sensitivity * specificity)\n",
        "\n",
        "me_gmean = gmean_manual(y_test, y_pred)\n",
        "\n",
        "\n",
        "print(f\"Accuracy: {me_accuracy:.2f}\")\n",
        "print(f\"Balanced Accuracy: {me_balanced_accuracy:.2f}\")\n",
        "print(f\"Matthews Correlation Coefficient: {me_mcc:.2f}\")\n",
        "print(f\"Recall: {me_recall:.2f}\")\n",
        "print(f\"Precision: {me_precision:.2f}\")\n",
        "print(f\"F1-score: {me_f1:.2f}\")\n",
        "print(f\"gmean: {me_gmean:.2f}\")"
      ]
    },
    {
      "cell_type": "code",
      "execution_count": null,
      "metadata": {
        "id": "AYaFnnWOPYgH"
      },
      "outputs": [],
      "source": [
        "# 評估模型性能，計算ROC AUC分數\n",
        "auc_score = roc_auc_score(y_test, y_pred)\n",
        "print(f\"ROC AUC score: {auc_score:.2f}\")\n",
        "\n",
        "# 計算並顯示精確度、召回率和F1分數\n",
        "precision = precision_score(y_test, y_pred, average='macro', zero_division=0)\n",
        "recall = recall_score(y_test, y_pred, average='macro', zero_division=0)\n",
        "f1 = f1_score(y_test, y_pred, average='macro', zero_division=0)\n",
        "\n",
        "print(f\"Model precision on test set: {precision:.2f}\")\n",
        "print(f\"Model recall on test set: {recall:.2f}\")\n",
        "print(f\"Model F1-Score on test set: {f1:.2f}\")\n"
      ]
    },
    {
      "cell_type": "code",
      "source": [
        "import matplotlib.pyplot as plt\n",
        "import seaborn as sns\n",
        "import numpy as np\n",
        "import pandas as pd\n",
        "\n",
        "# 資料準備\n",
        "data = {\n",
        "    'Metric': ['Accuracy', 'Balanced Accuracy', 'Recall', 'Precision', 'G-mean', 'ROC AUC', 'F1-Score', 'MCC'],\n",
        "    'MEBoost': [1.00, 0.90, 0.80, 0.71, 0.89, 0.90, 0.75, 0.75],\n",
        "    'MEBoost+SMOTE': [1.00, 0.90, 0.80, 1.00, 0.89, 0.90, 0.89, 0.89]\n",
        "}\n",
        "\n",
        "# 轉換成 DataFrame\n",
        "df = pd.DataFrame(data)\n",
        "\n",
        "\n",
        "# 使用 seaborn 繪製分開的長條圖，並指定精確的顏色和添加數據標籤\n",
        "# 重設圖形風格為 Seaborn 的 pastel\n",
        "sns.set_palette(sns.color_palette(\"pastel\"))\n",
        "\n",
        "# 繪製分開的長條圖\n",
        "fig, ax = plt.subplots(figsize=(14, 8))\n",
        "\n",
        "# 繪製 MEBoost 的長條圖\n",
        "sns.barplot(ax=ax, x='Metric', y='MEBoost', data=df, label='MEBoost', color='skyblue', alpha=0.8)\n",
        "\n",
        "# 繪製 MEBoost+SMOTE 的長條圖\n",
        "sns.barplot(ax=ax, x='Metric', y='MEBoost+SMOTE', data=df, label='MEBoost+SMOTE', color='salmon', alpha=0.6)\n",
        "\n",
        "# 在長條圖上添加數據標籤\n",
        "for container in ax.containers:\n",
        "    ax.bar_label(container, fmt='%.2f', padding=3, size=12)\n",
        "\n",
        "# 設定圖例位置\n",
        "ax.legend(loc='upper left', title='Models')\n",
        "\n",
        "# 設定標題和軸標籤\n",
        "ax.set_title('Performance Metrics of MEBoost and MEBoost+SMOTE', fontsize=16)\n",
        "ax.set_ylabel('Score', fontsize=14)\n",
        "ax.set_xlabel('Metrics', fontsize=14)\n",
        "\n",
        "# 顯示圖表\n",
        "sns.despine(fig)\n",
        "plt.tight_layout()\n",
        "plt.show()\n"
      ],
      "metadata": {
        "colab": {
          "base_uri": "https://localhost:8080/",
          "height": 367
        },
        "id": "OWut4PHHjj60",
        "outputId": "8089b488-95b9-46ce-f322-b4c4bb01eaa8"
      },
      "execution_count": null,
      "outputs": [
        {
          "output_type": "error",
          "ename": "ValueError",
          "evalue": "Length of list vectors must match length of `data` when both are used, but `data` has length 8 and the vector passed to `hue` has length 2.",
          "traceback": [
            "\u001b[0;31m---------------------------------------------------------------------------\u001b[0m",
            "\u001b[0;31mValueError\u001b[0m                                Traceback (most recent call last)",
            "\u001b[0;32m<ipython-input-3-efa9bc720d69>\u001b[0m in \u001b[0;36m<cell line: 17>\u001b[0;34m()\u001b[0m\n\u001b[1;32m     15\u001b[0m \u001b[0;34m\u001b[0m\u001b[0m\n\u001b[1;32m     16\u001b[0m \u001b[0;31m# Draw a nested barplot by species and sex\u001b[0m\u001b[0;34m\u001b[0m\u001b[0;34m\u001b[0m\u001b[0m\n\u001b[0;32m---> 17\u001b[0;31m g = sns.catplot(\n\u001b[0m\u001b[1;32m     18\u001b[0m     \u001b[0mdata\u001b[0m\u001b[0;34m=\u001b[0m\u001b[0mdf\u001b[0m\u001b[0;34m,\u001b[0m \u001b[0mkind\u001b[0m\u001b[0;34m=\u001b[0m\u001b[0;34m\"bar\"\u001b[0m\u001b[0;34m,\u001b[0m\u001b[0;34m\u001b[0m\u001b[0;34m\u001b[0m\u001b[0m\n\u001b[1;32m     19\u001b[0m     \u001b[0mx\u001b[0m\u001b[0;34m=\u001b[0m\u001b[0;34m\"Metric\"\u001b[0m\u001b[0;34m,\u001b[0m \u001b[0mhue\u001b[0m\u001b[0;34m=\u001b[0m\u001b[0;34m[\u001b[0m\u001b[0;34m'MEBoost'\u001b[0m\u001b[0;34m,\u001b[0m\u001b[0;34m'MEBoost+SMOTE'\u001b[0m\u001b[0;34m]\u001b[0m\u001b[0;34m,\u001b[0m\u001b[0;34m\u001b[0m\u001b[0;34m\u001b[0m\u001b[0m\n",
            "\u001b[0;32m/usr/local/lib/python3.10/dist-packages/seaborn/categorical.py\u001b[0m in \u001b[0;36mcatplot\u001b[0;34m(data, x, y, hue, row, col, kind, estimator, errorbar, n_boot, seed, units, weights, order, hue_order, row_order, col_order, col_wrap, height, aspect, log_scale, native_scale, formatter, orient, color, palette, hue_norm, legend, legend_out, sharex, sharey, margin_titles, facet_kws, ci, **kwargs)\u001b[0m\n\u001b[1;32m   2779\u001b[0m             \u001b[0;32mraise\u001b[0m \u001b[0mValueError\u001b[0m\u001b[0;34m(\u001b[0m\u001b[0;34m\"Cannot pass values for both `x` and `y`.\"\u001b[0m\u001b[0;34m)\u001b[0m\u001b[0;34m\u001b[0m\u001b[0;34m\u001b[0m\u001b[0m\n\u001b[1;32m   2780\u001b[0m \u001b[0;34m\u001b[0m\u001b[0m\n\u001b[0;32m-> 2781\u001b[0;31m     p = Plotter(\n\u001b[0m\u001b[1;32m   2782\u001b[0m         \u001b[0mdata\u001b[0m\u001b[0;34m=\u001b[0m\u001b[0mdata\u001b[0m\u001b[0;34m,\u001b[0m\u001b[0;34m\u001b[0m\u001b[0;34m\u001b[0m\u001b[0m\n\u001b[1;32m   2783\u001b[0m         variables=dict(\n",
            "\u001b[0;32m/usr/local/lib/python3.10/dist-packages/seaborn/categorical.py\u001b[0m in \u001b[0;36m__init__\u001b[0;34m(self, data, variables, order, orient, require_numeric, color, legend)\u001b[0m\n\u001b[1;32m     64\u001b[0m     ):\n\u001b[1;32m     65\u001b[0m \u001b[0;34m\u001b[0m\u001b[0m\n\u001b[0;32m---> 66\u001b[0;31m         \u001b[0msuper\u001b[0m\u001b[0;34m(\u001b[0m\u001b[0;34m)\u001b[0m\u001b[0;34m.\u001b[0m\u001b[0m__init__\u001b[0m\u001b[0;34m(\u001b[0m\u001b[0mdata\u001b[0m\u001b[0;34m=\u001b[0m\u001b[0mdata\u001b[0m\u001b[0;34m,\u001b[0m \u001b[0mvariables\u001b[0m\u001b[0;34m=\u001b[0m\u001b[0mvariables\u001b[0m\u001b[0;34m)\u001b[0m\u001b[0;34m\u001b[0m\u001b[0;34m\u001b[0m\u001b[0m\n\u001b[0m\u001b[1;32m     67\u001b[0m \u001b[0;34m\u001b[0m\u001b[0m\n\u001b[1;32m     68\u001b[0m         \u001b[0;31m# This method takes care of some bookkeeping that is necessary because the\u001b[0m\u001b[0;34m\u001b[0m\u001b[0;34m\u001b[0m\u001b[0m\n",
            "\u001b[0;32m/usr/local/lib/python3.10/dist-packages/seaborn/_base.py\u001b[0m in \u001b[0;36m__init__\u001b[0;34m(self, data, variables)\u001b[0m\n\u001b[1;32m    632\u001b[0m         \u001b[0;31m# information for numeric axes would be information about log scales.\u001b[0m\u001b[0;34m\u001b[0m\u001b[0;34m\u001b[0m\u001b[0m\n\u001b[1;32m    633\u001b[0m         \u001b[0mself\u001b[0m\u001b[0;34m.\u001b[0m\u001b[0m_var_ordered\u001b[0m \u001b[0;34m=\u001b[0m \u001b[0;34m{\u001b[0m\u001b[0;34m\"x\"\u001b[0m\u001b[0;34m:\u001b[0m \u001b[0;32mFalse\u001b[0m\u001b[0;34m,\u001b[0m \u001b[0;34m\"y\"\u001b[0m\u001b[0;34m:\u001b[0m \u001b[0;32mFalse\u001b[0m\u001b[0;34m}\u001b[0m  \u001b[0;31m# alt., used DefaultDict\u001b[0m\u001b[0;34m\u001b[0m\u001b[0;34m\u001b[0m\u001b[0m\n\u001b[0;32m--> 634\u001b[0;31m         \u001b[0mself\u001b[0m\u001b[0;34m.\u001b[0m\u001b[0massign_variables\u001b[0m\u001b[0;34m(\u001b[0m\u001b[0mdata\u001b[0m\u001b[0;34m,\u001b[0m \u001b[0mvariables\u001b[0m\u001b[0;34m)\u001b[0m\u001b[0;34m\u001b[0m\u001b[0;34m\u001b[0m\u001b[0m\n\u001b[0m\u001b[1;32m    635\u001b[0m \u001b[0;34m\u001b[0m\u001b[0m\n\u001b[1;32m    636\u001b[0m         \u001b[0;31m# TODO Lots of tests assume that these are called to initialize the\u001b[0m\u001b[0;34m\u001b[0m\u001b[0;34m\u001b[0m\u001b[0m\n",
            "\u001b[0;32m/usr/local/lib/python3.10/dist-packages/seaborn/_base.py\u001b[0m in \u001b[0;36massign_variables\u001b[0;34m(self, data, variables)\u001b[0m\n\u001b[1;32m    677\u001b[0m             \u001b[0;31m# to centralize / standardize data consumption logic.\u001b[0m\u001b[0;34m\u001b[0m\u001b[0;34m\u001b[0m\u001b[0m\n\u001b[1;32m    678\u001b[0m             \u001b[0mself\u001b[0m\u001b[0;34m.\u001b[0m\u001b[0minput_format\u001b[0m \u001b[0;34m=\u001b[0m \u001b[0;34m\"long\"\u001b[0m\u001b[0;34m\u001b[0m\u001b[0;34m\u001b[0m\u001b[0m\n\u001b[0;32m--> 679\u001b[0;31m             \u001b[0mplot_data\u001b[0m \u001b[0;34m=\u001b[0m \u001b[0mPlotData\u001b[0m\u001b[0;34m(\u001b[0m\u001b[0mdata\u001b[0m\u001b[0;34m,\u001b[0m \u001b[0mvariables\u001b[0m\u001b[0;34m)\u001b[0m\u001b[0;34m\u001b[0m\u001b[0;34m\u001b[0m\u001b[0m\n\u001b[0m\u001b[1;32m    680\u001b[0m             \u001b[0mframe\u001b[0m \u001b[0;34m=\u001b[0m \u001b[0mplot_data\u001b[0m\u001b[0;34m.\u001b[0m\u001b[0mframe\u001b[0m\u001b[0;34m\u001b[0m\u001b[0;34m\u001b[0m\u001b[0m\n\u001b[1;32m    681\u001b[0m             \u001b[0mnames\u001b[0m \u001b[0;34m=\u001b[0m \u001b[0mplot_data\u001b[0m\u001b[0;34m.\u001b[0m\u001b[0mnames\u001b[0m\u001b[0;34m\u001b[0m\u001b[0;34m\u001b[0m\u001b[0m\n",
            "\u001b[0;32m/usr/local/lib/python3.10/dist-packages/seaborn/_core/data.py\u001b[0m in \u001b[0;36m__init__\u001b[0;34m(self, data, variables)\u001b[0m\n\u001b[1;32m     56\u001b[0m \u001b[0;34m\u001b[0m\u001b[0m\n\u001b[1;32m     57\u001b[0m         \u001b[0mdata\u001b[0m \u001b[0;34m=\u001b[0m \u001b[0mhandle_data_source\u001b[0m\u001b[0;34m(\u001b[0m\u001b[0mdata\u001b[0m\u001b[0;34m)\u001b[0m\u001b[0;34m\u001b[0m\u001b[0;34m\u001b[0m\u001b[0m\n\u001b[0;32m---> 58\u001b[0;31m         \u001b[0mframe\u001b[0m\u001b[0;34m,\u001b[0m \u001b[0mnames\u001b[0m\u001b[0;34m,\u001b[0m \u001b[0mids\u001b[0m \u001b[0;34m=\u001b[0m \u001b[0mself\u001b[0m\u001b[0;34m.\u001b[0m\u001b[0m_assign_variables\u001b[0m\u001b[0;34m(\u001b[0m\u001b[0mdata\u001b[0m\u001b[0;34m,\u001b[0m \u001b[0mvariables\u001b[0m\u001b[0;34m)\u001b[0m\u001b[0;34m\u001b[0m\u001b[0;34m\u001b[0m\u001b[0m\n\u001b[0m\u001b[1;32m     59\u001b[0m \u001b[0;34m\u001b[0m\u001b[0m\n\u001b[1;32m     60\u001b[0m         \u001b[0mself\u001b[0m\u001b[0;34m.\u001b[0m\u001b[0mframe\u001b[0m \u001b[0;34m=\u001b[0m \u001b[0mframe\u001b[0m\u001b[0;34m\u001b[0m\u001b[0;34m\u001b[0m\u001b[0m\n",
            "\u001b[0;32m/usr/local/lib/python3.10/dist-packages/seaborn/_core/data.py\u001b[0m in \u001b[0;36m_assign_variables\u001b[0;34m(self, data, variables)\u001b[0m\n\u001b[1;32m    249\u001b[0m                             \u001b[0;34mf\" and the vector passed to `{key}` has length {len(val)}.\"\u001b[0m\u001b[0;34m\u001b[0m\u001b[0;34m\u001b[0m\u001b[0m\n\u001b[1;32m    250\u001b[0m                         )\n\u001b[0;32m--> 251\u001b[0;31m                         \u001b[0;32mraise\u001b[0m \u001b[0mValueError\u001b[0m\u001b[0;34m(\u001b[0m\u001b[0merr\u001b[0m\u001b[0;34m)\u001b[0m\u001b[0;34m\u001b[0m\u001b[0;34m\u001b[0m\u001b[0m\n\u001b[0m\u001b[1;32m    252\u001b[0m \u001b[0;34m\u001b[0m\u001b[0m\n\u001b[1;32m    253\u001b[0m                 \u001b[0mplot_data\u001b[0m\u001b[0;34m[\u001b[0m\u001b[0mkey\u001b[0m\u001b[0;34m]\u001b[0m \u001b[0;34m=\u001b[0m \u001b[0mval\u001b[0m\u001b[0;34m\u001b[0m\u001b[0;34m\u001b[0m\u001b[0m\n",
            "\u001b[0;31mValueError\u001b[0m: Length of list vectors must match length of `data` when both are used, but `data` has length 8 and the vector passed to `hue` has length 2."
          ]
        }
      ]
    },
    {
      "cell_type": "markdown",
      "source": [
        "### **AdaBoost**\n"
      ],
      "metadata": {
        "id": "tQ_F3Os_w2Io"
      }
    },
    {
      "cell_type": "code",
      "source": [
        "#https://www.kaggle.com/code/shashwat422/credit-card-fraud-detection-adaboost-randomforest\n",
        "from sklearn import ensemble\n",
        "\n",
        "# Creating classifier Object\n",
        "ada = ensemble.AdaBoostClassifier(random_state=7,n_estimators=50,learning_rate=0.6)\n",
        "#Fitting the classifier to training data\n",
        "ada.fit(x_train,y_train)\n",
        "\n",
        "# Making Predictions\n",
        "y_pred = ada.predict(x_test)\n",
        "\n",
        "print(\"Traing Score:%f\"%ada.score(x_train,y_train))\n",
        "print(\"Testing Score:%f\"%ada.score(x_test,y_test))"
      ],
      "metadata": {
        "colab": {
          "base_uri": "https://localhost:8080/"
        },
        "id": "-zGcgQG8w7d_",
        "outputId": "cb5c8a8c-7e97-4a43-c131-143de47fb0a5"
      },
      "execution_count": null,
      "outputs": [
        {
          "output_type": "stream",
          "name": "stdout",
          "text": [
            "Traing Score:1.000000\n",
            "Testing Score:0.997850\n"
          ]
        }
      ]
    },
    {
      "cell_type": "code",
      "source": [
        "from sklearn.metrics import accuracy_score, balanced_accuracy_score, recall_score, precision_score\n",
        "from sklearn.metrics import matthews_corrcoef\n",
        "\n",
        "# y_pred, _ = meboost.predict(x_test)\n",
        "# 计算各个指标\n",
        "ad_accuracy = accuracy_score(y_test, y_pred)\n",
        "ad_balanced_accuracy = balanced_accuracy_score(y_test, y_pred)\n",
        "ad_recall = recall_score(y_test, y_pred, average='binary')\n",
        "# ad_recall2 = recall_score(y_test, y_pred, average=None)\n",
        "ad_precision = precision_score(y_test, y_pred, average='binary')\n",
        "ad_f1 = f1_score(y_test, y_pred, average='binary')\n",
        "ad_roc_auc = roc_auc_score(y_test, y_pred)\n",
        "\n",
        "# 手动计算G-mean\n",
        "def gmean_manual(y_true, y_pred):\n",
        "    cm = confusion_matrix(y_true, y_pred)\n",
        "    sensitivity = cm[1, 1] / (cm[1, 0] + cm[1, 1])\n",
        "    specificity = cm[0, 0] / (cm[0, 0] + cm[0, 1])\n",
        "    return np.sqrt(sensitivity * specificity)\n",
        "\n",
        "ad_gmean = gmean_manual(y_test, y_pred)\n",
        "\n",
        "ad_mcc = matthews_corrcoef(y_test, y_pred)\n",
        "\n",
        "# 打印结果\n",
        "print('AdaBoost+ SMOTE: \\n')\n",
        "print(f\"Accuracy: {ad_accuracy:.2f}\")\n",
        "print(f\"Balanced Accuracy: {ad_balanced_accuracy:.2f}\")\n",
        "print(f\"Recall: {ad_recall:.2f}\")\n",
        "# print(f\"Recall for yes: {me_recall2[1]:.2f}\")\n",
        "# print(f\"Recall for no: {me_recall2[0]:.2f}\")\n",
        "print(f\"Precision: {ad_precision:.2f}\")\n",
        "print(f\"G-Mean: {ad_gmean:.2f}\")\n",
        "print(f\"ROC AUC: {ad_roc_auc:.2f}\")\n",
        "print(f\"F1 Score: {ad_f1:.2f}\")\n",
        "print(\"Matthews Correlation Coefficient:\", ad_mcc)"
      ],
      "metadata": {
        "colab": {
          "base_uri": "https://localhost:8080/"
        },
        "id": "HyPCto_YxJAm",
        "outputId": "54d97858-12cb-4521-9aa8-b3538eb16620"
      },
      "execution_count": null,
      "outputs": [
        {
          "output_type": "stream",
          "name": "stdout",
          "text": [
            "AdaBoost+ SMOTE: \n",
            "\n",
            "Accuracy: 1.00\n",
            "Balanced Accuracy: 0.87\n",
            "Recall: 0.73\n",
            "Precision: 0.85\n",
            "G-Mean: 0.86\n",
            "ROC AUC: 0.87\n",
            "F1 Score: 0.79\n",
            "Matthews Correlation Coefficient: 0.7866691308551679\n"
          ]
        }
      ]
    },
    {
      "cell_type": "code",
      "source": [
        "from sklearn.metrics import accuracy_score, classification_report,confusion_matrix\n",
        "print(accuracy_score(Y_test,ada_pred))\n",
        "print(classification_report(Y_test,ada_pred))\n",
        "print(confusion_matrix(Y_test,ada_pred))"
      ],
      "metadata": {
        "id": "pvMIqQOtxEx_"
      },
      "execution_count": null,
      "outputs": []
    }
  ],
  "metadata": {
    "colab": {
      "provenance": []
    },
    "kernelspec": {
      "display_name": "Python 3",
      "name": "python3"
    },
    "language_info": {
      "name": "python"
    }
  },
  "nbformat": 4,
  "nbformat_minor": 0
}