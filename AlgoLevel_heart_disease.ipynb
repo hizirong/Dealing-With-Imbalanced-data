{
  "cells": [
    {
      "cell_type": "code",
      "execution_count": null,
      "metadata": {
        "colab": {
          "base_uri": "https://localhost:8080/"
        },
        "id": "4iSXHNz8b1Ez",
        "outputId": "c7320235-50f1-4dc4-e5ee-31f177d9d39d"
      },
      "outputs": [
        {
          "output_type": "stream",
          "name": "stdout",
          "text": [
            "Mounted at /content/drive\n"
          ]
        }
      ],
      "source": [
        "from google.colab import drive\n",
        "drive.mount('/content/drive')"
      ]
    },
    {
      "cell_type": "code",
      "execution_count": null,
      "metadata": {
        "id": "DFVydM2sCx3x"
      },
      "outputs": [],
      "source": [
        "# import\n",
        "import os\n",
        "import time\n",
        "import numpy as np\n",
        "import pandas as pd\n",
        "from sklearn.tree import DecisionTreeClassifier\n",
        "from sklearn.model_selection import train_test_split, cross_validate\n",
        "from sklearn.metrics import accuracy_score,confusion_matrix, make_scorer, recall_score, f1_score, roc_auc_score\n",
        "from imblearn.ensemble import EasyEnsembleClassifier\n",
        "import warnings\n",
        "warnings.filterwarnings('ignore')\n"
      ]
    },
    {
      "cell_type": "markdown",
      "source": [
        "\n",
        "### **資料處理**"
      ],
      "metadata": {
        "id": "qVUje-78h3y3"
      }
    },
    {
      "cell_type": "code",
      "execution_count": null,
      "metadata": {
        "colab": {
          "base_uri": "https://localhost:8080/",
          "height": 253
        },
        "id": "Kz4iNeiFDyBs",
        "outputId": "c2ff7168-3796-4c61-e31f-942ab2fd0538"
      },
      "outputs": [
        {
          "output_type": "execute_result",
          "data": {
            "text/plain": [
              "   HeartDiseaseorAttack  HighBP  HighChol  CholCheck   BMI  Smoker  Stroke  \\\n",
              "0                   0.0     1.0       1.0        1.0  40.0     1.0     0.0   \n",
              "1                   0.0     0.0       0.0        0.0  25.0     1.0     0.0   \n",
              "2                   0.0     1.0       1.0        1.0  28.0     0.0     0.0   \n",
              "3                   0.0     1.0       0.0        1.0  27.0     0.0     0.0   \n",
              "4                   0.0     1.0       1.0        1.0  24.0     0.0     0.0   \n",
              "\n",
              "   Diabetes  PhysActivity  Fruits  ...  AnyHealthcare  NoDocbcCost  GenHlth  \\\n",
              "0       0.0           0.0     0.0  ...            1.0          0.0      5.0   \n",
              "1       0.0           1.0     0.0  ...            0.0          1.0      3.0   \n",
              "2       0.0           0.0     1.0  ...            1.0          1.0      5.0   \n",
              "3       0.0           1.0     1.0  ...            1.0          0.0      2.0   \n",
              "4       0.0           1.0     1.0  ...            1.0          0.0      2.0   \n",
              "\n",
              "   MentHlth  PhysHlth  DiffWalk  Sex   Age  Education  Income  \n",
              "0      18.0      15.0       1.0  0.0   9.0        4.0     3.0  \n",
              "1       0.0       0.0       0.0  0.0   7.0        6.0     1.0  \n",
              "2      30.0      30.0       1.0  0.0   9.0        4.0     8.0  \n",
              "3       0.0       0.0       0.0  0.0  11.0        3.0     6.0  \n",
              "4       3.0       0.0       0.0  0.0  11.0        5.0     4.0  \n",
              "\n",
              "[5 rows x 22 columns]"
            ],
            "text/html": [
              "\n",
              "  <div id=\"df-c3946a43-2cee-4187-8f49-96ac5adcdef3\" class=\"colab-df-container\">\n",
              "    <div>\n",
              "<style scoped>\n",
              "    .dataframe tbody tr th:only-of-type {\n",
              "        vertical-align: middle;\n",
              "    }\n",
              "\n",
              "    .dataframe tbody tr th {\n",
              "        vertical-align: top;\n",
              "    }\n",
              "\n",
              "    .dataframe thead th {\n",
              "        text-align: right;\n",
              "    }\n",
              "</style>\n",
              "<table border=\"1\" class=\"dataframe\">\n",
              "  <thead>\n",
              "    <tr style=\"text-align: right;\">\n",
              "      <th></th>\n",
              "      <th>HeartDiseaseorAttack</th>\n",
              "      <th>HighBP</th>\n",
              "      <th>HighChol</th>\n",
              "      <th>CholCheck</th>\n",
              "      <th>BMI</th>\n",
              "      <th>Smoker</th>\n",
              "      <th>Stroke</th>\n",
              "      <th>Diabetes</th>\n",
              "      <th>PhysActivity</th>\n",
              "      <th>Fruits</th>\n",
              "      <th>...</th>\n",
              "      <th>AnyHealthcare</th>\n",
              "      <th>NoDocbcCost</th>\n",
              "      <th>GenHlth</th>\n",
              "      <th>MentHlth</th>\n",
              "      <th>PhysHlth</th>\n",
              "      <th>DiffWalk</th>\n",
              "      <th>Sex</th>\n",
              "      <th>Age</th>\n",
              "      <th>Education</th>\n",
              "      <th>Income</th>\n",
              "    </tr>\n",
              "  </thead>\n",
              "  <tbody>\n",
              "    <tr>\n",
              "      <th>0</th>\n",
              "      <td>0.0</td>\n",
              "      <td>1.0</td>\n",
              "      <td>1.0</td>\n",
              "      <td>1.0</td>\n",
              "      <td>40.0</td>\n",
              "      <td>1.0</td>\n",
              "      <td>0.0</td>\n",
              "      <td>0.0</td>\n",
              "      <td>0.0</td>\n",
              "      <td>0.0</td>\n",
              "      <td>...</td>\n",
              "      <td>1.0</td>\n",
              "      <td>0.0</td>\n",
              "      <td>5.0</td>\n",
              "      <td>18.0</td>\n",
              "      <td>15.0</td>\n",
              "      <td>1.0</td>\n",
              "      <td>0.0</td>\n",
              "      <td>9.0</td>\n",
              "      <td>4.0</td>\n",
              "      <td>3.0</td>\n",
              "    </tr>\n",
              "    <tr>\n",
              "      <th>1</th>\n",
              "      <td>0.0</td>\n",
              "      <td>0.0</td>\n",
              "      <td>0.0</td>\n",
              "      <td>0.0</td>\n",
              "      <td>25.0</td>\n",
              "      <td>1.0</td>\n",
              "      <td>0.0</td>\n",
              "      <td>0.0</td>\n",
              "      <td>1.0</td>\n",
              "      <td>0.0</td>\n",
              "      <td>...</td>\n",
              "      <td>0.0</td>\n",
              "      <td>1.0</td>\n",
              "      <td>3.0</td>\n",
              "      <td>0.0</td>\n",
              "      <td>0.0</td>\n",
              "      <td>0.0</td>\n",
              "      <td>0.0</td>\n",
              "      <td>7.0</td>\n",
              "      <td>6.0</td>\n",
              "      <td>1.0</td>\n",
              "    </tr>\n",
              "    <tr>\n",
              "      <th>2</th>\n",
              "      <td>0.0</td>\n",
              "      <td>1.0</td>\n",
              "      <td>1.0</td>\n",
              "      <td>1.0</td>\n",
              "      <td>28.0</td>\n",
              "      <td>0.0</td>\n",
              "      <td>0.0</td>\n",
              "      <td>0.0</td>\n",
              "      <td>0.0</td>\n",
              "      <td>1.0</td>\n",
              "      <td>...</td>\n",
              "      <td>1.0</td>\n",
              "      <td>1.0</td>\n",
              "      <td>5.0</td>\n",
              "      <td>30.0</td>\n",
              "      <td>30.0</td>\n",
              "      <td>1.0</td>\n",
              "      <td>0.0</td>\n",
              "      <td>9.0</td>\n",
              "      <td>4.0</td>\n",
              "      <td>8.0</td>\n",
              "    </tr>\n",
              "    <tr>\n",
              "      <th>3</th>\n",
              "      <td>0.0</td>\n",
              "      <td>1.0</td>\n",
              "      <td>0.0</td>\n",
              "      <td>1.0</td>\n",
              "      <td>27.0</td>\n",
              "      <td>0.0</td>\n",
              "      <td>0.0</td>\n",
              "      <td>0.0</td>\n",
              "      <td>1.0</td>\n",
              "      <td>1.0</td>\n",
              "      <td>...</td>\n",
              "      <td>1.0</td>\n",
              "      <td>0.0</td>\n",
              "      <td>2.0</td>\n",
              "      <td>0.0</td>\n",
              "      <td>0.0</td>\n",
              "      <td>0.0</td>\n",
              "      <td>0.0</td>\n",
              "      <td>11.0</td>\n",
              "      <td>3.0</td>\n",
              "      <td>6.0</td>\n",
              "    </tr>\n",
              "    <tr>\n",
              "      <th>4</th>\n",
              "      <td>0.0</td>\n",
              "      <td>1.0</td>\n",
              "      <td>1.0</td>\n",
              "      <td>1.0</td>\n",
              "      <td>24.0</td>\n",
              "      <td>0.0</td>\n",
              "      <td>0.0</td>\n",
              "      <td>0.0</td>\n",
              "      <td>1.0</td>\n",
              "      <td>1.0</td>\n",
              "      <td>...</td>\n",
              "      <td>1.0</td>\n",
              "      <td>0.0</td>\n",
              "      <td>2.0</td>\n",
              "      <td>3.0</td>\n",
              "      <td>0.0</td>\n",
              "      <td>0.0</td>\n",
              "      <td>0.0</td>\n",
              "      <td>11.0</td>\n",
              "      <td>5.0</td>\n",
              "      <td>4.0</td>\n",
              "    </tr>\n",
              "  </tbody>\n",
              "</table>\n",
              "<p>5 rows × 22 columns</p>\n",
              "</div>\n",
              "    <div class=\"colab-df-buttons\">\n",
              "\n",
              "  <div class=\"colab-df-container\">\n",
              "    <button class=\"colab-df-convert\" onclick=\"convertToInteractive('df-c3946a43-2cee-4187-8f49-96ac5adcdef3')\"\n",
              "            title=\"Convert this dataframe to an interactive table.\"\n",
              "            style=\"display:none;\">\n",
              "\n",
              "  <svg xmlns=\"http://www.w3.org/2000/svg\" height=\"24px\" viewBox=\"0 -960 960 960\">\n",
              "    <path d=\"M120-120v-720h720v720H120Zm60-500h600v-160H180v160Zm220 220h160v-160H400v160Zm0 220h160v-160H400v160ZM180-400h160v-160H180v160Zm440 0h160v-160H620v160ZM180-180h160v-160H180v160Zm440 0h160v-160H620v160Z\"/>\n",
              "  </svg>\n",
              "    </button>\n",
              "\n",
              "  <style>\n",
              "    .colab-df-container {\n",
              "      display:flex;\n",
              "      gap: 12px;\n",
              "    }\n",
              "\n",
              "    .colab-df-convert {\n",
              "      background-color: #E8F0FE;\n",
              "      border: none;\n",
              "      border-radius: 50%;\n",
              "      cursor: pointer;\n",
              "      display: none;\n",
              "      fill: #1967D2;\n",
              "      height: 32px;\n",
              "      padding: 0 0 0 0;\n",
              "      width: 32px;\n",
              "    }\n",
              "\n",
              "    .colab-df-convert:hover {\n",
              "      background-color: #E2EBFA;\n",
              "      box-shadow: 0px 1px 2px rgba(60, 64, 67, 0.3), 0px 1px 3px 1px rgba(60, 64, 67, 0.15);\n",
              "      fill: #174EA6;\n",
              "    }\n",
              "\n",
              "    .colab-df-buttons div {\n",
              "      margin-bottom: 4px;\n",
              "    }\n",
              "\n",
              "    [theme=dark] .colab-df-convert {\n",
              "      background-color: #3B4455;\n",
              "      fill: #D2E3FC;\n",
              "    }\n",
              "\n",
              "    [theme=dark] .colab-df-convert:hover {\n",
              "      background-color: #434B5C;\n",
              "      box-shadow: 0px 1px 3px 1px rgba(0, 0, 0, 0.15);\n",
              "      filter: drop-shadow(0px 1px 2px rgba(0, 0, 0, 0.3));\n",
              "      fill: #FFFFFF;\n",
              "    }\n",
              "  </style>\n",
              "\n",
              "    <script>\n",
              "      const buttonEl =\n",
              "        document.querySelector('#df-c3946a43-2cee-4187-8f49-96ac5adcdef3 button.colab-df-convert');\n",
              "      buttonEl.style.display =\n",
              "        google.colab.kernel.accessAllowed ? 'block' : 'none';\n",
              "\n",
              "      async function convertToInteractive(key) {\n",
              "        const element = document.querySelector('#df-c3946a43-2cee-4187-8f49-96ac5adcdef3');\n",
              "        const dataTable =\n",
              "          await google.colab.kernel.invokeFunction('convertToInteractive',\n",
              "                                                    [key], {});\n",
              "        if (!dataTable) return;\n",
              "\n",
              "        const docLinkHtml = 'Like what you see? Visit the ' +\n",
              "          '<a target=\"_blank\" href=https://colab.research.google.com/notebooks/data_table.ipynb>data table notebook</a>'\n",
              "          + ' to learn more about interactive tables.';\n",
              "        element.innerHTML = '';\n",
              "        dataTable['output_type'] = 'display_data';\n",
              "        await google.colab.output.renderOutput(dataTable, element);\n",
              "        const docLink = document.createElement('div');\n",
              "        docLink.innerHTML = docLinkHtml;\n",
              "        element.appendChild(docLink);\n",
              "      }\n",
              "    </script>\n",
              "  </div>\n",
              "\n",
              "\n",
              "<div id=\"df-27079c3d-e73a-4ff2-ab7d-1646789bea04\">\n",
              "  <button class=\"colab-df-quickchart\" onclick=\"quickchart('df-27079c3d-e73a-4ff2-ab7d-1646789bea04')\"\n",
              "            title=\"Suggest charts\"\n",
              "            style=\"display:none;\">\n",
              "\n",
              "<svg xmlns=\"http://www.w3.org/2000/svg\" height=\"24px\"viewBox=\"0 0 24 24\"\n",
              "     width=\"24px\">\n",
              "    <g>\n",
              "        <path d=\"M19 3H5c-1.1 0-2 .9-2 2v14c0 1.1.9 2 2 2h14c1.1 0 2-.9 2-2V5c0-1.1-.9-2-2-2zM9 17H7v-7h2v7zm4 0h-2V7h2v10zm4 0h-2v-4h2v4z\"/>\n",
              "    </g>\n",
              "</svg>\n",
              "  </button>\n",
              "\n",
              "<style>\n",
              "  .colab-df-quickchart {\n",
              "      --bg-color: #E8F0FE;\n",
              "      --fill-color: #1967D2;\n",
              "      --hover-bg-color: #E2EBFA;\n",
              "      --hover-fill-color: #174EA6;\n",
              "      --disabled-fill-color: #AAA;\n",
              "      --disabled-bg-color: #DDD;\n",
              "  }\n",
              "\n",
              "  [theme=dark] .colab-df-quickchart {\n",
              "      --bg-color: #3B4455;\n",
              "      --fill-color: #D2E3FC;\n",
              "      --hover-bg-color: #434B5C;\n",
              "      --hover-fill-color: #FFFFFF;\n",
              "      --disabled-bg-color: #3B4455;\n",
              "      --disabled-fill-color: #666;\n",
              "  }\n",
              "\n",
              "  .colab-df-quickchart {\n",
              "    background-color: var(--bg-color);\n",
              "    border: none;\n",
              "    border-radius: 50%;\n",
              "    cursor: pointer;\n",
              "    display: none;\n",
              "    fill: var(--fill-color);\n",
              "    height: 32px;\n",
              "    padding: 0;\n",
              "    width: 32px;\n",
              "  }\n",
              "\n",
              "  .colab-df-quickchart:hover {\n",
              "    background-color: var(--hover-bg-color);\n",
              "    box-shadow: 0 1px 2px rgba(60, 64, 67, 0.3), 0 1px 3px 1px rgba(60, 64, 67, 0.15);\n",
              "    fill: var(--button-hover-fill-color);\n",
              "  }\n",
              "\n",
              "  .colab-df-quickchart-complete:disabled,\n",
              "  .colab-df-quickchart-complete:disabled:hover {\n",
              "    background-color: var(--disabled-bg-color);\n",
              "    fill: var(--disabled-fill-color);\n",
              "    box-shadow: none;\n",
              "  }\n",
              "\n",
              "  .colab-df-spinner {\n",
              "    border: 2px solid var(--fill-color);\n",
              "    border-color: transparent;\n",
              "    border-bottom-color: var(--fill-color);\n",
              "    animation:\n",
              "      spin 1s steps(1) infinite;\n",
              "  }\n",
              "\n",
              "  @keyframes spin {\n",
              "    0% {\n",
              "      border-color: transparent;\n",
              "      border-bottom-color: var(--fill-color);\n",
              "      border-left-color: var(--fill-color);\n",
              "    }\n",
              "    20% {\n",
              "      border-color: transparent;\n",
              "      border-left-color: var(--fill-color);\n",
              "      border-top-color: var(--fill-color);\n",
              "    }\n",
              "    30% {\n",
              "      border-color: transparent;\n",
              "      border-left-color: var(--fill-color);\n",
              "      border-top-color: var(--fill-color);\n",
              "      border-right-color: var(--fill-color);\n",
              "    }\n",
              "    40% {\n",
              "      border-color: transparent;\n",
              "      border-right-color: var(--fill-color);\n",
              "      border-top-color: var(--fill-color);\n",
              "    }\n",
              "    60% {\n",
              "      border-color: transparent;\n",
              "      border-right-color: var(--fill-color);\n",
              "    }\n",
              "    80% {\n",
              "      border-color: transparent;\n",
              "      border-right-color: var(--fill-color);\n",
              "      border-bottom-color: var(--fill-color);\n",
              "    }\n",
              "    90% {\n",
              "      border-color: transparent;\n",
              "      border-bottom-color: var(--fill-color);\n",
              "    }\n",
              "  }\n",
              "</style>\n",
              "\n",
              "  <script>\n",
              "    async function quickchart(key) {\n",
              "      const quickchartButtonEl =\n",
              "        document.querySelector('#' + key + ' button');\n",
              "      quickchartButtonEl.disabled = true;  // To prevent multiple clicks.\n",
              "      quickchartButtonEl.classList.add('colab-df-spinner');\n",
              "      try {\n",
              "        const charts = await google.colab.kernel.invokeFunction(\n",
              "            'suggestCharts', [key], {});\n",
              "      } catch (error) {\n",
              "        console.error('Error during call to suggestCharts:', error);\n",
              "      }\n",
              "      quickchartButtonEl.classList.remove('colab-df-spinner');\n",
              "      quickchartButtonEl.classList.add('colab-df-quickchart-complete');\n",
              "    }\n",
              "    (() => {\n",
              "      let quickchartButtonEl =\n",
              "        document.querySelector('#df-27079c3d-e73a-4ff2-ab7d-1646789bea04 button');\n",
              "      quickchartButtonEl.style.display =\n",
              "        google.colab.kernel.accessAllowed ? 'block' : 'none';\n",
              "    })();\n",
              "  </script>\n",
              "</div>\n",
              "    </div>\n",
              "  </div>\n"
            ],
            "application/vnd.google.colaboratory.intrinsic+json": {
              "type": "dataframe",
              "variable_name": "df"
            }
          },
          "metadata": {},
          "execution_count": 3
        }
      ],
      "source": [
        "# load data\n",
        "df = pd.read_csv('/content/drive/MyDrive/dataset/heart_disease_health_indicators_BRFSS2015.csv')\n",
        "df.head()"
      ]
    },
    {
      "cell_type": "code",
      "source": [
        "# check data\n",
        "data = len(df)\n",
        "nan_count = df.isnull().sum().sum()\n",
        "print('資料量：',data)\n",
        "print('空值：',nan_count)"
      ],
      "metadata": {
        "colab": {
          "base_uri": "https://localhost:8080/"
        },
        "id": "cuXYouGqatBs",
        "outputId": "9c66d5d2-aac3-467d-f889-f29ba84e63d8"
      },
      "execution_count": null,
      "outputs": [
        {
          "output_type": "stream",
          "name": "stdout",
          "text": [
            "資料量： 81884\n",
            "空值： 0\n"
          ]
        }
      ]
    },
    {
      "cell_type": "code",
      "source": [
        "df = df.fillna(df.mean())\n",
        "# df = df.dropna()"
      ],
      "metadata": {
        "id": "4STIi4lehKXS"
      },
      "execution_count": null,
      "outputs": []
    },
    {
      "cell_type": "code",
      "source": [
        "print('0:',df[df['HeartDiseaseorAttack'] == 0].shape[0])\n",
        "print('1:',df[df['HeartDiseaseorAttack'] == 1].shape[0])"
      ],
      "metadata": {
        "colab": {
          "base_uri": "https://localhost:8080/"
        },
        "id": "oy2tL8WN6WN2",
        "outputId": "efe13851-06cf-4f10-ce37-0c084ec50077"
      },
      "execution_count": null,
      "outputs": [
        {
          "output_type": "stream",
          "name": "stdout",
          "text": [
            "0: 74342\n",
            "1: 7542\n"
          ]
        }
      ]
    },
    {
      "cell_type": "code",
      "execution_count": null,
      "metadata": {
        "id": "TlFkXI0y1Gof"
      },
      "outputs": [],
      "source": [
        "# 選擇目標變量和特徵變量\n",
        "y = df['HeartDiseaseorAttack']\n",
        "X = df.drop(['HeartDiseaseorAttack'], axis=1)\n"
      ]
    },
    {
      "cell_type": "code",
      "execution_count": null,
      "metadata": {
        "colab": {
          "base_uri": "https://localhost:8080/"
        },
        "id": "6BLDBYdgSVgq",
        "outputId": "c99a05aa-41ec-421a-8cda-5107ee31de27"
      },
      "outputs": [
        {
          "output_type": "stream",
          "name": "stdout",
          "text": [
            "Dimensions: \n",
            " x_train:(65507, 21) \n",
            " x_test(16377, 21) \n",
            " y_train(65507,) \n",
            " y_test(16377,)\n"
          ]
        }
      ],
      "source": [
        "# 分割數據集為訓練集和測試集\n",
        "x_train, x_test, y_train, y_test = train_test_split(X, y, test_size=0.2, random_state=7)\n",
        "print('Dimensions: \\n x_train:{} \\n x_test{} \\n y_train{} \\n y_test{}'.format(x_train.shape, x_test.shape, y_train.shape, y_test.shape))"
      ]
    },
    {
      "cell_type": "code",
      "source": [
        "# @title\n",
        "# 處理缺失值 mean\n",
        "from sklearn.impute import SimpleImputer\n",
        "\n",
        "imputer = SimpleImputer(strategy='mean') # 可以是 'median', 'most_frequent' 等\n",
        "# 選擇目標變量和特徵變量\n",
        "y = df['HeartDiseaseorAttack']\n",
        "X = df.drop(['HeartDiseaseorAttack'], axis=1)\n",
        "\n",
        "# 補齊 X 中的空值\n",
        "X = pd.DataFrame(imputer.fit_transform(X), columns=X.columns)\n"
      ],
      "metadata": {
        "id": "BG-D9J0lc73a"
      },
      "execution_count": null,
      "outputs": []
    },
    {
      "cell_type": "code",
      "execution_count": null,
      "metadata": {
        "id": "uU4mnWSW1Xhr"
      },
      "outputs": [],
      "source": [
        "# @title\n",
        "from imblearn.over_sampling import SMOTE\n",
        "smote = SMOTE(sampling_strategy='auto',  # 自动平衡所有类\n",
        "              k_neighbors=5,             # 使用5个最近邻\n",
        "              random_state=7,           # 确保可重复性\n",
        "              n_jobs=-1)\n",
        "x_train, y_train = smote.fit_resample(x_train, y_train)"
      ]
    },
    {
      "cell_type": "markdown",
      "metadata": {
        "id": "Lb0O9_J5swNO"
      },
      "source": [
        "### **DecisionTreeClassifier**"
      ]
    },
    {
      "cell_type": "code",
      "execution_count": null,
      "metadata": {
        "id": "R-AB1mGrC_qJ"
      },
      "outputs": [],
      "source": [
        "# 使用決策樹作為分類器\n",
        "classifier = DecisionTreeClassifier(random_state=42)"
      ]
    },
    {
      "cell_type": "code",
      "execution_count": null,
      "metadata": {
        "colab": {
          "base_uri": "https://localhost:8080/",
          "height": 74
        },
        "id": "1i53bg6VDCIf",
        "outputId": "fae3177b-d1f5-4434-800e-c0c038da9595"
      },
      "outputs": [
        {
          "output_type": "execute_result",
          "data": {
            "text/plain": [
              "DecisionTreeClassifier(random_state=42)"
            ],
            "text/html": [
              "<style>#sk-container-id-3 {color: black;background-color: white;}#sk-container-id-3 pre{padding: 0;}#sk-container-id-3 div.sk-toggleable {background-color: white;}#sk-container-id-3 label.sk-toggleable__label {cursor: pointer;display: block;width: 100%;margin-bottom: 0;padding: 0.3em;box-sizing: border-box;text-align: center;}#sk-container-id-3 label.sk-toggleable__label-arrow:before {content: \"▸\";float: left;margin-right: 0.25em;color: #696969;}#sk-container-id-3 label.sk-toggleable__label-arrow:hover:before {color: black;}#sk-container-id-3 div.sk-estimator:hover label.sk-toggleable__label-arrow:before {color: black;}#sk-container-id-3 div.sk-toggleable__content {max-height: 0;max-width: 0;overflow: hidden;text-align: left;background-color: #f0f8ff;}#sk-container-id-3 div.sk-toggleable__content pre {margin: 0.2em;color: black;border-radius: 0.25em;background-color: #f0f8ff;}#sk-container-id-3 input.sk-toggleable__control:checked~div.sk-toggleable__content {max-height: 200px;max-width: 100%;overflow: auto;}#sk-container-id-3 input.sk-toggleable__control:checked~label.sk-toggleable__label-arrow:before {content: \"▾\";}#sk-container-id-3 div.sk-estimator input.sk-toggleable__control:checked~label.sk-toggleable__label {background-color: #d4ebff;}#sk-container-id-3 div.sk-label input.sk-toggleable__control:checked~label.sk-toggleable__label {background-color: #d4ebff;}#sk-container-id-3 input.sk-hidden--visually {border: 0;clip: rect(1px 1px 1px 1px);clip: rect(1px, 1px, 1px, 1px);height: 1px;margin: -1px;overflow: hidden;padding: 0;position: absolute;width: 1px;}#sk-container-id-3 div.sk-estimator {font-family: monospace;background-color: #f0f8ff;border: 1px dotted black;border-radius: 0.25em;box-sizing: border-box;margin-bottom: 0.5em;}#sk-container-id-3 div.sk-estimator:hover {background-color: #d4ebff;}#sk-container-id-3 div.sk-parallel-item::after {content: \"\";width: 100%;border-bottom: 1px solid gray;flex-grow: 1;}#sk-container-id-3 div.sk-label:hover label.sk-toggleable__label {background-color: #d4ebff;}#sk-container-id-3 div.sk-serial::before {content: \"\";position: absolute;border-left: 1px solid gray;box-sizing: border-box;top: 0;bottom: 0;left: 50%;z-index: 0;}#sk-container-id-3 div.sk-serial {display: flex;flex-direction: column;align-items: center;background-color: white;padding-right: 0.2em;padding-left: 0.2em;position: relative;}#sk-container-id-3 div.sk-item {position: relative;z-index: 1;}#sk-container-id-3 div.sk-parallel {display: flex;align-items: stretch;justify-content: center;background-color: white;position: relative;}#sk-container-id-3 div.sk-item::before, #sk-container-id-3 div.sk-parallel-item::before {content: \"\";position: absolute;border-left: 1px solid gray;box-sizing: border-box;top: 0;bottom: 0;left: 50%;z-index: -1;}#sk-container-id-3 div.sk-parallel-item {display: flex;flex-direction: column;z-index: 1;position: relative;background-color: white;}#sk-container-id-3 div.sk-parallel-item:first-child::after {align-self: flex-end;width: 50%;}#sk-container-id-3 div.sk-parallel-item:last-child::after {align-self: flex-start;width: 50%;}#sk-container-id-3 div.sk-parallel-item:only-child::after {width: 0;}#sk-container-id-3 div.sk-dashed-wrapped {border: 1px dashed gray;margin: 0 0.4em 0.5em 0.4em;box-sizing: border-box;padding-bottom: 0.4em;background-color: white;}#sk-container-id-3 div.sk-label label {font-family: monospace;font-weight: bold;display: inline-block;line-height: 1.2em;}#sk-container-id-3 div.sk-label-container {text-align: center;}#sk-container-id-3 div.sk-container {/* jupyter's `normalize.less` sets `[hidden] { display: none; }` but bootstrap.min.css set `[hidden] { display: none !important; }` so we also need the `!important` here to be able to override the default hidden behavior on the sphinx rendered scikit-learn.org. See: https://github.com/scikit-learn/scikit-learn/issues/21755 */display: inline-block !important;position: relative;}#sk-container-id-3 div.sk-text-repr-fallback {display: none;}</style><div id=\"sk-container-id-3\" class=\"sk-top-container\"><div class=\"sk-text-repr-fallback\"><pre>DecisionTreeClassifier(random_state=42)</pre><b>In a Jupyter environment, please rerun this cell to show the HTML representation or trust the notebook. <br />On GitHub, the HTML representation is unable to render, please try loading this page with nbviewer.org.</b></div><div class=\"sk-container\" hidden><div class=\"sk-item\"><div class=\"sk-estimator sk-toggleable\"><input class=\"sk-toggleable__control sk-hidden--visually\" id=\"sk-estimator-id-3\" type=\"checkbox\" checked><label for=\"sk-estimator-id-3\" class=\"sk-toggleable__label sk-toggleable__label-arrow\">DecisionTreeClassifier</label><div class=\"sk-toggleable__content\"><pre>DecisionTreeClassifier(random_state=42)</pre></div></div></div></div></div>"
            ]
          },
          "metadata": {},
          "execution_count": 55
        }
      ],
      "source": [
        "# 訓練決策樹模型\n",
        "classifier.fit(x_train, y_train)"
      ]
    },
    {
      "cell_type": "code",
      "execution_count": null,
      "metadata": {
        "colab": {
          "base_uri": "https://localhost:8080/"
        },
        "id": "8zcefqYMDDzu",
        "outputId": "9ac4170a-1225-4d2c-e0a7-cf78b5114e66"
      },
      "outputs": [
        {
          "output_type": "stream",
          "name": "stdout",
          "text": [
            "Accuracy: 0.85\n",
            "Recall: 0.28\n",
            "Recall for 'No': 0.91\n",
            "Recall for 'yes': 0.28\n",
            "F1 Score: 0.26\n"
          ]
        }
      ],
      "source": [
        "# 使用測試集進行預測\n",
        "y_pred = classifier.predict(x_test)\n",
        "\n",
        "t_accuracy = accuracy_score(y_test, y_pred)\n",
        "# 計算召回率並儲存到變數 (假設為二分類問題)\n",
        "t_recall = recall_score(y_test, y_pred, average='binary')\n",
        "tt_recall = recall_score(y_test, y_pred, average=None)\n",
        "\n",
        "# 計算F1分數並儲存到變數 (假設為二分類問題)\n",
        "t_f1 = f1_score(y_test, y_pred, average='binary')\n",
        "\n",
        "# 打印準確率、召回率和F1分數的值\n",
        "print(f\"Accuracy: {t_accuracy:.2f}\")\n",
        "print(f\"Recall: {t_recall:.2f}\")\n",
        "print(f\"Recall for 'No': {tt_recall[0]:.2f}\")\n",
        "print(f\"Recall for 'yes': {tt_recall[1]:.2f}\")\n",
        "print(f\"F1 Score: {t_f1:.2f}\")"
      ]
    },
    {
      "cell_type": "code",
      "source": [
        "from prettytable import PrettyTable\n",
        "from sklearn.metrics import f1_score, confusion_matrix,balanced_accuracy_score,matthews_corrcoef,precision_score\n",
        "import numpy as np\n",
        "\n",
        "y_pred = classifier.predict(x_test)\n",
        "# 假设y_test和y_pred是你的真实标签和预测标签\n",
        "# 根据y_test和y_pred计算所有指标\n",
        "\n",
        "# 创建一个PrettyTable对象\n",
        "pt = PrettyTable()\n",
        "\n",
        "# 添加表头\n",
        "pt.field_names = [\"Class\", \"Precision\", \"Recall\", \"F1-score\", \"Support\"]\n",
        "\n",
        "# 分别计算每个类别的性能指标\n",
        "for i in [0,1]:  # 假设有两个类别，0和1\n",
        "    precision = precision_score(y_test, y_pred, pos_label=i, average='binary')\n",
        "    recall = recall_score(y_test, y_pred, pos_label=i, average='binary')\n",
        "    f1 = f1_score(y_test, y_pred, pos_label=i, average='binary')\n",
        "    support = (y_test == i).sum()\n",
        "    pt.add_row([i, f\"{precision:.2f}\", f\"{recall:.2f}\", f\"{f1:.2f}\", support])\n",
        "\n",
        "# 打印分类报告\n",
        "print(pt)\n",
        "\n",
        "# 打印其他总体指标\n",
        "b_accuracy = accuracy_score(y_test, y_pred)\n",
        "b_balanced_accuracy = balanced_accuracy_score(y_test, y_pred)\n",
        "b_mcc = matthews_corrcoef(y_test, y_pred)\n",
        "\n",
        "print(f\"Accuracy: {b_accuracy:.2f}\")\n",
        "print(f\"Balanced Accuracy: {b_balanced_accuracy:.2f}\")\n",
        "print(f\"Matthews Correlation Coefficient: {b_mcc:.2f}\")\n"
      ],
      "metadata": {
        "colab": {
          "base_uri": "https://localhost:8080/"
        },
        "id": "P0lH8RKweDmT",
        "outputId": "b8d6a3bf-e166-4a44-92a4-fc4663decbd5"
      },
      "execution_count": null,
      "outputs": [
        {
          "output_type": "stream",
          "name": "stdout",
          "text": [
            "+-------+-----------+--------+----------+---------+\n",
            "| Class | Precision | Recall | F1-score | Support |\n",
            "+-------+-----------+--------+----------+---------+\n",
            "|   0   |    0.93   |  0.91  |   0.92   |  14859  |\n",
            "|   1   |    0.24   |  0.28  |   0.26   |   1518  |\n",
            "+-------+-----------+--------+----------+---------+\n",
            "Accuracy: 0.85\n",
            "Balanced Accuracy: 0.59\n",
            "Matthews Correlation Coefficient: 0.18\n"
          ]
        }
      ]
    },
    {
      "cell_type": "markdown",
      "metadata": {
        "id": "rnoAFE93ITou"
      },
      "source": []
    },
    {
      "cell_type": "markdown",
      "metadata": {
        "id": "cgZF8hBXs6Gl"
      },
      "source": [
        "### **EasyEnsembleClassifier**"
      ]
    },
    {
      "cell_type": "code",
      "execution_count": null,
      "metadata": {
        "id": "4jr9rC3pHaBN"
      },
      "outputs": [],
      "source": [
        "def tn(y_true, y_pred): return confusion_matrix(y_true, y_pred)[0, 0]\n",
        "def fp(y_true, y_pred): return confusion_matrix(y_true, y_pred)[0, 1]\n",
        "def fn(y_true, y_pred): return confusion_matrix(y_true, y_pred)[1, 0]\n",
        "def tp(y_true, y_pred): return confusion_matrix(y_true, y_pred)[1, 1]"
      ]
    },
    {
      "cell_type": "code",
      "execution_count": null,
      "metadata": {
        "id": "9pyykGhnIfAG"
      },
      "outputs": [],
      "source": [
        "scorers = {\n",
        "    'Accuracy': 'accuracy',\n",
        "    'roc_auc': 'roc_auc',\n",
        "    'Sensitivity':'recall',\n",
        "    'precision':'precision',\n",
        "    'tp': make_scorer(tp),\n",
        "    'tn': make_scorer(tn),\n",
        "    'fp': make_scorer(fp),\n",
        "    'fn': make_scorer(fn)\n",
        "}"
      ]
    },
    {
      "cell_type": "code",
      "execution_count": null,
      "metadata": {
        "colab": {
          "base_uri": "https://localhost:8080/",
          "height": 74
        },
        "id": "nwLA-D1eIhRb",
        "outputId": "b019dce9-8e17-46a2-a807-4560418e7740"
      },
      "outputs": [
        {
          "output_type": "execute_result",
          "data": {
            "text/plain": [
              "EasyEnsembleClassifier(random_state=7)"
            ],
            "text/html": [
              "<style>#sk-container-id-4 {color: black;background-color: white;}#sk-container-id-4 pre{padding: 0;}#sk-container-id-4 div.sk-toggleable {background-color: white;}#sk-container-id-4 label.sk-toggleable__label {cursor: pointer;display: block;width: 100%;margin-bottom: 0;padding: 0.3em;box-sizing: border-box;text-align: center;}#sk-container-id-4 label.sk-toggleable__label-arrow:before {content: \"▸\";float: left;margin-right: 0.25em;color: #696969;}#sk-container-id-4 label.sk-toggleable__label-arrow:hover:before {color: black;}#sk-container-id-4 div.sk-estimator:hover label.sk-toggleable__label-arrow:before {color: black;}#sk-container-id-4 div.sk-toggleable__content {max-height: 0;max-width: 0;overflow: hidden;text-align: left;background-color: #f0f8ff;}#sk-container-id-4 div.sk-toggleable__content pre {margin: 0.2em;color: black;border-radius: 0.25em;background-color: #f0f8ff;}#sk-container-id-4 input.sk-toggleable__control:checked~div.sk-toggleable__content {max-height: 200px;max-width: 100%;overflow: auto;}#sk-container-id-4 input.sk-toggleable__control:checked~label.sk-toggleable__label-arrow:before {content: \"▾\";}#sk-container-id-4 div.sk-estimator input.sk-toggleable__control:checked~label.sk-toggleable__label {background-color: #d4ebff;}#sk-container-id-4 div.sk-label input.sk-toggleable__control:checked~label.sk-toggleable__label {background-color: #d4ebff;}#sk-container-id-4 input.sk-hidden--visually {border: 0;clip: rect(1px 1px 1px 1px);clip: rect(1px, 1px, 1px, 1px);height: 1px;margin: -1px;overflow: hidden;padding: 0;position: absolute;width: 1px;}#sk-container-id-4 div.sk-estimator {font-family: monospace;background-color: #f0f8ff;border: 1px dotted black;border-radius: 0.25em;box-sizing: border-box;margin-bottom: 0.5em;}#sk-container-id-4 div.sk-estimator:hover {background-color: #d4ebff;}#sk-container-id-4 div.sk-parallel-item::after {content: \"\";width: 100%;border-bottom: 1px solid gray;flex-grow: 1;}#sk-container-id-4 div.sk-label:hover label.sk-toggleable__label {background-color: #d4ebff;}#sk-container-id-4 div.sk-serial::before {content: \"\";position: absolute;border-left: 1px solid gray;box-sizing: border-box;top: 0;bottom: 0;left: 50%;z-index: 0;}#sk-container-id-4 div.sk-serial {display: flex;flex-direction: column;align-items: center;background-color: white;padding-right: 0.2em;padding-left: 0.2em;position: relative;}#sk-container-id-4 div.sk-item {position: relative;z-index: 1;}#sk-container-id-4 div.sk-parallel {display: flex;align-items: stretch;justify-content: center;background-color: white;position: relative;}#sk-container-id-4 div.sk-item::before, #sk-container-id-4 div.sk-parallel-item::before {content: \"\";position: absolute;border-left: 1px solid gray;box-sizing: border-box;top: 0;bottom: 0;left: 50%;z-index: -1;}#sk-container-id-4 div.sk-parallel-item {display: flex;flex-direction: column;z-index: 1;position: relative;background-color: white;}#sk-container-id-4 div.sk-parallel-item:first-child::after {align-self: flex-end;width: 50%;}#sk-container-id-4 div.sk-parallel-item:last-child::after {align-self: flex-start;width: 50%;}#sk-container-id-4 div.sk-parallel-item:only-child::after {width: 0;}#sk-container-id-4 div.sk-dashed-wrapped {border: 1px dashed gray;margin: 0 0.4em 0.5em 0.4em;box-sizing: border-box;padding-bottom: 0.4em;background-color: white;}#sk-container-id-4 div.sk-label label {font-family: monospace;font-weight: bold;display: inline-block;line-height: 1.2em;}#sk-container-id-4 div.sk-label-container {text-align: center;}#sk-container-id-4 div.sk-container {/* jupyter's `normalize.less` sets `[hidden] { display: none; }` but bootstrap.min.css set `[hidden] { display: none !important; }` so we also need the `!important` here to be able to override the default hidden behavior on the sphinx rendered scikit-learn.org. See: https://github.com/scikit-learn/scikit-learn/issues/21755 */display: inline-block !important;position: relative;}#sk-container-id-4 div.sk-text-repr-fallback {display: none;}</style><div id=\"sk-container-id-4\" class=\"sk-top-container\"><div class=\"sk-text-repr-fallback\"><pre>EasyEnsembleClassifier(random_state=7)</pre><b>In a Jupyter environment, please rerun this cell to show the HTML representation or trust the notebook. <br />On GitHub, the HTML representation is unable to render, please try loading this page with nbviewer.org.</b></div><div class=\"sk-container\" hidden><div class=\"sk-item\"><div class=\"sk-estimator sk-toggleable\"><input class=\"sk-toggleable__control sk-hidden--visually\" id=\"sk-estimator-id-4\" type=\"checkbox\" checked><label for=\"sk-estimator-id-4\" class=\"sk-toggleable__label sk-toggleable__label-arrow\">EasyEnsembleClassifier</label><div class=\"sk-toggleable__content\"><pre>EasyEnsembleClassifier(random_state=7)</pre></div></div></div></div></div>"
            ]
          },
          "metadata": {},
          "execution_count": 56
        }
      ],
      "source": [
        "# from sklearn.linear_model import LogisticRegression\n",
        "# logreg = LogisticRegression()\n",
        "ez = EasyEnsembleClassifier(n_estimators=10,random_state=7)#base_estimator=logreg,\n",
        "ez.fit(x_train, y_train)#ez.fit(x_train, y_train)"
      ]
    },
    {
      "cell_type": "code",
      "execution_count": null,
      "metadata": {
        "colab": {
          "base_uri": "https://localhost:8080/"
        },
        "id": "qyRBn6W1TW2S",
        "outputId": "fc390bca-d4f3-4b80-f7e7-0d74fd41d0d9"
      },
      "outputs": [
        {
          "output_type": "stream",
          "name": "stdout",
          "text": [
            "+-------+-----------+--------+----------+---------+\n",
            "| Class | Precision | Recall | F1-score | Support |\n",
            "+-------+-----------+--------+----------+---------+\n",
            "|   0   |    0.97   |  0.75  |   0.85   |  14859  |\n",
            "|   1   |    0.24   |  0.78  |   0.37   |   1518  |\n",
            "+-------+-----------+--------+----------+---------+\n",
            "Accuracy: 0.76\n",
            "Balanced Accuracy: 0.77\n",
            "Matthews Correlation Coefficient: 0.34\n",
            "Recall: 0.78\n",
            "Precision: 0.24\n",
            "F1-score: 0.37\n",
            "gmean: 0.77\n"
          ]
        }
      ],
      "source": [
        "from prettytable import PrettyTable\n",
        "from sklearn.metrics import f1_score, confusion_matrix,balanced_accuracy_score,matthews_corrcoef,precision_score\n",
        "import numpy as np\n",
        "\n",
        "y_pred = ez.predict(x_test)\n",
        "\n",
        "# PrettyTable\n",
        "pt = PrettyTable()\n",
        "\n",
        "# 添加表头\n",
        "pt.field_names = [\"Class\", \"Precision\", \"Recall\", \"F1-score\", \"Support\"]\n",
        "\n",
        "# 分别计算每个类别的性能指标\n",
        "for i in [0,1]:  # 假设有两个类别，0和1\n",
        "    precision = precision_score(y_test, y_pred, pos_label=i, average='binary')\n",
        "    recall = recall_score(y_test, y_pred, pos_label=i, average='binary')\n",
        "    f1 = f1_score(y_test, y_pred, pos_label=i, average='binary')\n",
        "    support = (y_test == i).sum()\n",
        "    pt.add_row([i, f\"{precision:.2f}\", f\"{recall:.2f}\", f\"{f1:.2f}\", support])\n",
        "\n",
        "# 打印分类报告\n",
        "print(pt)\n",
        "\n",
        "# 打印其他总体指标\n",
        "ez_accuracy = accuracy_score(y_test, y_pred)\n",
        "ez_balanced_accuracy = balanced_accuracy_score(y_test, y_pred)\n",
        "ez_mcc = matthews_corrcoef(y_test, y_pred)\n",
        "ez_precision = precision_score(y_test, y_pred, average='binary')\n",
        "ez_recall = recall_score(y_test, y_pred, average='binary')\n",
        "ez_f1 = f1_score(y_test, y_pred,average='binary')\n",
        "# 手动计算G-mean\n",
        "def gmean_manual(y_true, y_pred):\n",
        "    cm = confusion_matrix(y_true, y_pred)\n",
        "    sensitivity = cm[1, 1] / (cm[1, 0] + cm[1, 1])\n",
        "    specificity = cm[0, 0] / (cm[0, 0] + cm[0, 1])\n",
        "    return np.sqrt(sensitivity * specificity)\n",
        "\n",
        "ez_gmean = gmean_manual(y_test, y_pred)\n",
        "\n",
        "print(f\"Accuracy: {ez_accuracy:.2f}\")\n",
        "print(f\"Balanced Accuracy: {ez_balanced_accuracy:.2f}\")\n",
        "print(f\"Matthews Correlation Coefficient: {ez_mcc:.2f}\")\n",
        "print(f\"Recall: {ez_recall:.2f}\")\n",
        "print(f\"Precision: {ez_precision:.2f}\")\n",
        "print(f\"F1-score: {ez_f1:.2f}\")\n",
        "print(f\"gmean: {ez_gmean:.2f}\")\n",
        "\n"
      ]
    },
    {
      "cell_type": "code",
      "execution_count": null,
      "metadata": {
        "id": "6USyBv1myq36",
        "cellView": "form"
      },
      "outputs": [],
      "source": [
        "# @title\n",
        "# 使用predict_proba获得属于正类的概率\n",
        "probabilities = ez.predict_proba(x_test)[:, 1]\n",
        "\n",
        "# 设置阈值\n",
        "threshold = 0.6\n",
        "\n",
        "# 根据阈值调整预测结果：如果正类的概率大于或等于0.4，则预测为正类（1），否则为负类（0）\n",
        "y_pred = (probabilities >= threshold).astype(int)"
      ]
    },
    {
      "cell_type": "code",
      "execution_count": null,
      "metadata": {
        "id": "6tnK0XNjyBqW",
        "cellView": "form"
      },
      "outputs": [],
      "source": [
        "# @title\n",
        "# 使用predict_proba获得属于正类的概率\n",
        "probabilities = ez.predict_proba(x_test)[:, 1]\n",
        "\n",
        "# 定义一个函数来根据不同的阈值计算精确率和召回率\n",
        "def calculate_metrics(y_true, probabilities, threshold):\n",
        "    # 根据阈值调整预测结果\n",
        "    predictions = (probabilities >= threshold).astype(int)\n",
        "\n",
        "    # 计算精确率和召回率\n",
        "    precision = precision_score(y_true, predictions)\n",
        "    recall = recall_score(y_true, predictions)\n",
        "\n",
        "    return precision, recall\n",
        "\n",
        "# 尝试不同的阈值\n",
        "thresholds = np.arange(0.1, 1, 0.1)\n",
        "for threshold in thresholds:\n",
        "    precision, recall = calculate_metrics(y_test, probabilities, threshold)\n",
        "    print(f\"Threshold: {threshold:.1f}, Precision: {precision:.2f}, Recall: {recall:.2f}\")"
      ]
    },
    {
      "cell_type": "code",
      "execution_count": null,
      "metadata": {
        "colab": {
          "base_uri": "https://localhost:8080/"
        },
        "id": "JOhBrxHujj9d",
        "outputId": "150cda6c-cf1c-4975-ffa9-ae5ae19d5faf"
      },
      "outputs": [
        {
          "output_type": "stream",
          "name": "stdout",
          "text": [
            "Easy Ensemble result : \n",
            " \n",
            "Accuracy: 0.76\n",
            "Balanced Accuracy: 0.77\n",
            "Recall: 0.79\n",
            "Precision: 0.25\n",
            "G-Mean: 0.77\n",
            "ROC AUC: 0.77\n",
            "F1 Score: 0.38\n",
            "Matthews Correlation Coefficient: 0.34422100852642534\n"
          ]
        }
      ],
      "source": [
        "from sklearn.metrics import accuracy_score, balanced_accuracy_score, recall_score, precision_score\n",
        "\n",
        "y_pred = ez.predict(x_test)\n",
        "\n",
        "ez_accuracy = accuracy_score(y_test, y_pred)\n",
        "ez_balanced_accuracy = balanced_accuracy_score(y_test, y_pred)\n",
        "ez_recall = recall_score(y_test, y_pred, average='binary')\n",
        "ez_recall2 = recall_score(y_test, y_pred, average=None)\n",
        "ez_precision = precision_score(y_test, y_pred, average='binary')\n",
        "ez_f1 = f1_score(y_test, y_pred, average='binary')\n",
        "ez_roc_auc = roc_auc_score(y_test, y_pred)\n",
        "\n",
        "# 手动计算G-mean\n",
        "def gmean_manual(y_true, y_pred):\n",
        "    cm = confusion_matrix(y_true, y_pred)\n",
        "    sensitivity = cm[1, 1] / (cm[1, 0] + cm[1, 1])\n",
        "    specificity = cm[0, 0] / (cm[0, 0] + cm[0, 1])\n",
        "    return np.sqrt(sensitivity * specificity)\n",
        "\n",
        "ez_gmean = gmean_manual(y_test, y_pred)\n",
        "ez_mcc = matthews_corrcoef(y_test, y_pred)\n",
        "\n",
        "# 打印结果\n",
        "print('Easy Ensemble result : \\n ')\n",
        "print(f\"Accuracy: {ez_accuracy:.2f}\")\n",
        "print(f\"Balanced Accuracy: {ez_balanced_accuracy:.2f}\")\n",
        "print(f\"Recall: {ez_recall:.2f}\")\n",
        "# print(f\"Recall for yes: {ez_recall2[1]:.2f}\")\n",
        "# print(f\"Recall for no: {ez_recall2[0]:.2f}\")\n",
        "print(f\"Precision: {ez_precision:.2f}\")\n",
        "print(f\"G-Mean: {ez_gmean:.2f}\")\n",
        "print(f\"ROC AUC: {ez_roc_auc:.2f}\")\n",
        "print(f\"F1 Score: {ez_f1:.2f}\")\n",
        "print(\"Matthews Correlation Coefficient:\", ez_mcc)"
      ]
    },
    {
      "cell_type": "code",
      "execution_count": null,
      "metadata": {
        "id": "MWSqxrRmh327"
      },
      "outputs": [],
      "source": [
        "#change this name here to change the print name\n",
        "classifier_name = 'Easy Ensemble'\n",
        "\n",
        "start_ts=time.time()\n",
        "#try swapping out the classifier for random forest instead\n",
        "#clf = RandomForestClassifier(n_estimators=200, max_depth=None, min_samples_split=3,criterion='entropy', class_weight='balanced', random_state=random_state)\n",
        "clf = EasyEnsembleClassifier(n_estimators=10)\n",
        "scores = cross_validate(clf, X, y, scoring=scorers, cv=5)\n",
        "\n",
        "Sensitivity = round(scores['test_tp'].mean() / (scores['test_tp'].mean() + scores['test_fn'].mean()),3)*100   #TP/(TP+FN) also recall\n",
        "Specificity = round(scores['test_tn'].mean() / (scores['test_tn'].mean() + scores['test_fp'].mean()),3)*100    #TN/(TN+FP)\n",
        "PPV = round(scores['test_tp'].mean() / (scores['test_tp'].mean() + scores['test_fp'].mean()),3)*100           #PPV = tp/(tp+fp) also precision\n",
        "NPV = round(scores['test_tn'].mean() / (scores['test_fn'].mean() + scores['test_tn'].mean()),3)*100           #TN(FN+TN)\n",
        "\n",
        "scores_Acc = scores['test_Accuracy']\n",
        "print(f\"{classifier_name} Acc: %0.2f (+/- %0.2f)\" % (scores_Acc.mean(), scores_Acc.std() * 2))\n",
        "scores_AUC = scores['test_roc_auc']                                                                     #Only works with binary classes, not multiclass\n",
        "print(f\"{classifier_name} AUC: %0.2f (+/- %0.2f)\" % (scores_AUC.mean(), scores_AUC.std() * 2))\n",
        "scores_sensitivity = scores['test_Sensitivity']                                                                     #Only works with binary classes, not multiclass\n",
        "print(f\"{classifier_name} Recall: %0.2f (+/- %0.2f)\" % (scores_sensitivity.mean(), scores_sensitivity.std() * 2))\n",
        "scores_precision = scores['test_precision']                                                                     #Only works with binary classes, not multiclass\n",
        "print(f\"{classifier_name} Precision: %0.2f (+/- %0.2f)\" % (scores_precision.mean(), scores_precision.std() * 2))\n",
        "print(f\"{classifier_name} Sensitivity = \", Sensitivity, \"%\")\n",
        "print(f\"{classifier_name} Specificity = \", Specificity, \"%\")\n",
        "print(f\"{classifier_name} PPV = \", PPV, \"%\")\n",
        "print(f\"{classifier_name} NPV = \", NPV, \"%\")\n",
        "\n",
        "print(\"CV Runtime:\", time.time()-start_ts)"
      ]
    },
    {
      "cell_type": "markdown",
      "metadata": {
        "id": "wigU0436tJex"
      },
      "source": [
        "### **MEBoost**"
      ]
    },
    {
      "cell_type": "code",
      "execution_count": null,
      "metadata": {
        "id": "vTu5o0PGOTMd"
      },
      "outputs": [],
      "source": [
        "import numpy as np\n",
        "from imblearn.over_sampling import RandomOverSampler, SMOTE\n",
        "from imblearn.under_sampling import (AllKNN, ClusterCentroids, CondensedNearestNeighbour,\n",
        "                                     NeighbourhoodCleaningRule, EditedNearestNeighbours,\n",
        "                                     RepeatedEditedNearestNeighbours, RandomUnderSampler)\n",
        "from sklearn.cluster import KMeans\n",
        "from sklearn.ensemble import AdaBoostClassifier, ExtraTreesClassifier, RandomForestClassifier\n",
        "# from sklearn.metrics import accuracy_score, precision_score, recall_score, f1_score, classification_report\n",
        "from sklearn.neighbors import KNeighborsClassifier, KDTree\n",
        "from sklearn.svm import SVC\n",
        "from sklearn.tree import DecisionTreeClassifier, ExtraTreeClassifier\n",
        "from sklearn.metrics import roc_auc_score, precision_score, recall_score, f1_score\n"
      ]
    },
    {
      "cell_type": "code",
      "execution_count": null,
      "metadata": {
        "id": "bpVXhspvOVJt"
      },
      "outputs": [],
      "source": [
        "class MEBoost:\n",
        "    def __init__(self, n_estimators, depth, split, neighbours):\n",
        "        self.M = n_estimators\n",
        "        self.depth = depth\n",
        "        self.split = split\n",
        "\n",
        "    def customSampler(self, X, Y):\n",
        "        sampler = RandomUnderSampler(random_state=42)\n",
        "        X_sampled, y_sampled = sampler.fit_resample(X, Y)\n",
        "        return X_sampled, y_sampled\n",
        "\n",
        "    def fit(self, X, Y):\n",
        "        # 训练模型的主要函数\n",
        "        self.models = []  # 用于存储每一轮训练得到的模型\n",
        "        self.alphas = []  # 用于存储每个模型的权重\n",
        "\n",
        "        best_alpha = []\n",
        "        best_tree = []\n",
        "\n",
        "        top_score = 0\n",
        "\n",
        "        N, _ = X.shape\n",
        "        W = np.ones(N) / N  # 初始化样本权重，均等分配\n",
        "\n",
        "        for m in range(self.M):\n",
        "            # 交替使用决策树和额外树分类器\n",
        "            if m % 2 == 0:\n",
        "                tree = DecisionTreeClassifier(max_depth=self.depth, min_samples_split=self.split)\n",
        "            else:\n",
        "                tree = ExtraTreeClassifier(max_depth=self.depth, min_samples_split=self.split)\n",
        "\n",
        "            # 调用自定义采样方法\n",
        "            X_undersampled, y_undersampled = self.customSampler(X, Y)\n",
        "\n",
        "            # 使用采样后的数据和对应的样本权重训练模型\n",
        "            tree.fit(X_undersampled, y_undersampled, sample_weight=W[:len(X_undersampled)])\n",
        "\n",
        "            # 使用模型进行预测\n",
        "            P = tree.predict(X)\n",
        "            # 计算误差\n",
        "            err = np.sum(W[P != Y])\n",
        "\n",
        "            if err > 0.5:\n",
        "                continue  # 如果误差过大，则跳过本轮\n",
        "            if err <= 0:\n",
        "                err = 0.00000001  # 避免除以零的错误\n",
        "\n",
        "            # 计算模型权重alpha，使用经典的Boosting公式\n",
        "            alpha = 0.5 * np.log((1 - err) / err) if err != 0 else 0\n",
        "            W = W * np.exp(-alpha * Y * P)  # 更新样本权重\n",
        "            W = W / W.sum()  # 归一化样本权重\n",
        "\n",
        "            self.models.append(tree)\n",
        "            self.alphas.append(alpha)\n",
        "\n",
        "            # 计算当前所有模型的集成预测性能，记录最佳性能的模型和权重\n",
        "            FX = np.zeros(N)\n",
        "            for alpha, tree in zip(self.alphas, self.models):\n",
        "                FX += alpha * tree.predict(X)\n",
        "            FX = np.sign(FX)\n",
        "            score = roc_auc_score(Y, FX)\n",
        "            if top_score < score:\n",
        "                top_score = score\n",
        "                best_alpha = self.alphas\n",
        "                best_tree = self.models\n",
        "\n",
        "        self.alphas = best_alpha  # 保存最佳模型权重\n",
        "        self.models = best_tree  # 保存最佳模型\n",
        "    def predict(self, X, threshold=0.7): #加入threshold\n",
        "        # 根據訓練好的模型預測數據X的標籤\n",
        "        N, _ = X.shape\n",
        "        FX = np.zeros(N)\n",
        "        for alpha, tree in zip(self.alphas, self.models):\n",
        "            # 樹模型的預測通常是 0 (表示負類) 或 1 (表示正類)\n",
        "            # 我們通過減去0.5並乘以2來轉換為 -1 (負類) 或 1 (正類)\n",
        "            FX += alpha * (tree.predict(X) * 2 - 1)\n",
        "        # 將加權和轉換為平均預測機率\n",
        "        FX /= sum(self.alphas)\n",
        "        # 使用自定義的閾值來決定類別\n",
        "        predictions = np.where(FX >= threshold, 1, 0)\n",
        "        return predictions\n",
        "\n",
        "    def predict_proba(self, X):\n",
        "        # 预测数据X属于每个类别的概率\n",
        "        proba = np.zeros((X.shape[0], 2))  # 初始化概率数组\n",
        "        for model, alpha in zip(self.models, self.alphas):\n",
        "            model_proba = model.predict_proba(X)\n",
        "            proba += model_proba * alpha  # 累加加权概率\n",
        "\n",
        "        proba_sum = np.sum(proba, axis=1)[:, np.newaxis]\n",
        "        proba /= proba_sum  # 归一化概率\n",
        "\n",
        "        return proba\n",
        "\n"
      ]
    },
    {
      "cell_type": "code",
      "execution_count": null,
      "metadata": {
        "id": "TI3QaoIvOXHC"
      },
      "outputs": [],
      "source": [
        "# 初始化MEBoost實例\n",
        "meboost = MEBoost(n_estimators=80, depth=10, split=5, neighbours=3)\n",
        "\n",
        "# 使用訓練數據訓練模型\n",
        "meboost.fit(x_train, y_train)\n",
        "\n"
      ]
    },
    {
      "cell_type": "code",
      "execution_count": null,
      "metadata": {
        "colab": {
          "base_uri": "https://localhost:8080/"
        },
        "id": "pSm6-WmglW7I",
        "outputId": "ca3eb5b8-aa16-4ec7-84d4-2584449abec4"
      },
      "outputs": [
        {
          "output_type": "stream",
          "name": "stdout",
          "text": [
            "MEBoost+ SMOTE: \n",
            "\n",
            "Accuracy: 0.91\n",
            "Balanced Accuracy: 0.50\n",
            "Recall: 0.00\n",
            "Precision: 0.00\n",
            "G-Mean: 0.00\n",
            "ROC AUC: 0.50\n",
            "F1 Score: 0.00\n",
            "Matthews Correlation Coefficient: 0.0\n"
          ]
        }
      ],
      "source": [
        "from sklearn.metrics import accuracy_score, balanced_accuracy_score, recall_score, precision_score\n",
        "from sklearn.metrics import matthews_corrcoef\n",
        "\n",
        "# y_pred, _ = meboost.predict(x_test)\n",
        "y_pred = meboost.predict(x_test)\n",
        "\n",
        "me_accuracy = accuracy_score(y_test, y_pred)\n",
        "me_balanced_accuracy = balanced_accuracy_score(y_test, y_pred)\n",
        "me_recall = recall_score(y_test, y_pred, average='binary')\n",
        "me_recall2 = recall_score(y_test, y_pred, average=None)\n",
        "me_precision = precision_score(y_test, y_pred, average='binary')\n",
        "me_f1 = f1_score(y_test, y_pred, average='binary')\n",
        "me_roc_auc = roc_auc_score(y_test, y_pred)\n",
        "\n",
        "# 手动计算G-mean\n",
        "def gmean_manual(y_true, y_pred):\n",
        "    cm = confusion_matrix(y_true, y_pred)\n",
        "    sensitivity = cm[1, 1] / (cm[1, 0] + cm[1, 1])\n",
        "    specificity = cm[0, 0] / (cm[0, 0] + cm[0, 1])\n",
        "    return np.sqrt(sensitivity * specificity)\n",
        "\n",
        "me_gmean = gmean_manual(y_test, y_pred)\n",
        "\n",
        "me_mcc = matthews_corrcoef(y_test, y_pred)\n",
        "\n",
        "# 打印结果\n",
        "print('MEBoost+ SMOTE: \\n')\n",
        "print(f\"Accuracy: {me_accuracy:.2f}\")\n",
        "print(f\"Balanced Accuracy: {me_balanced_accuracy:.2f}\")\n",
        "print(f\"Recall: {me_recall:.2f}\")\n",
        "# print(f\"Recall for yes: {me_recall2[1]:.2f}\")\n",
        "# print(f\"Recall for no: {me_recall2[0]:.2f}\")\n",
        "print(f\"Precision: {me_precision:.2f}\")\n",
        "print(f\"G-Mean: {me_gmean:.2f}\")\n",
        "print(f\"ROC AUC: {me_roc_auc:.2f}\")\n",
        "print(f\"F1 Score: {me_f1:.2f}\")\n",
        "print(\"Matthews Correlation Coefficient:\", me_mcc)"
      ]
    },
    {
      "cell_type": "code",
      "execution_count": null,
      "metadata": {
        "colab": {
          "base_uri": "https://localhost:8080/"
        },
        "id": "_KHccC7J8Oh3",
        "outputId": "714b7786-9c2c-40da-d933-7c7b85ce02df"
      },
      "outputs": [
        {
          "output_type": "stream",
          "name": "stdout",
          "text": [
            "+-------+-----------+--------+----------+---------+\n",
            "| Class | Precision | Recall | F1-score | Support |\n",
            "+-------+-----------+--------+----------+---------+\n",
            "|   0   |    0.99   |  0.40  |   0.57   |  14835  |\n",
            "|   1   |    0.14   |  0.94  |   0.24   |   1542  |\n",
            "+-------+-----------+--------+----------+---------+\n",
            "Accuracy: 0.45\n",
            "Balanced Accuracy: 0.67\n",
            "Matthews Correlation Coefficient: 0.21\n",
            "Recall: 0.94\n",
            "Precision: 0.14\n",
            "F1-score: 0.24\n",
            "gmean: 0.61\n"
          ]
        }
      ],
      "source": [
        "from prettytable import PrettyTable\n",
        "from sklearn.metrics import f1_score, confusion_matrix,balanced_accuracy_score,matthews_corrcoef\n",
        "import numpy as np\n",
        "\n",
        "\n",
        "# 使用測試數據進行預測\n",
        "y_pred, _ = meboost.predict(x_test)\n",
        "\n",
        "# 创建一个PrettyTable对象\n",
        "pt = PrettyTable()\n",
        "\n",
        "# 添加表头\n",
        "pt.field_names = [\"Class\", \"Precision\", \"Recall\", \"F1-score\", \"Support\"]\n",
        "\n",
        "# 分别计算每个类别的性能指标\n",
        "for i in [0,1]:  # 假设有两个类别，0和1\n",
        "    precision = precision_score(y_test, y_pred, pos_label=i, average='binary')\n",
        "    recall = recall_score(y_test, y_pred, pos_label=i, average='binary')\n",
        "    f1 = f1_score(y_test, y_pred, pos_label=i, average='binary')\n",
        "    support = (y_test == i).sum()\n",
        "    pt.add_row([i, f\"{precision:.2f}\", f\"{recall:.2f}\", f\"{f1:.2f}\", support])\n",
        "\n",
        "# 打印分类报告\n",
        "print(pt)\n",
        "\n",
        "# 打印其他总体指标\n",
        "me_accuracy = accuracy_score(y_test, y_pred)\n",
        "me_balanced_accuracy = balanced_accuracy_score(y_test, y_pred)\n",
        "me_mcc = matthews_corrcoef(y_test, y_pred)\n",
        "me_precision = precision_score(y_test, y_pred, average='binary')\n",
        "me_recall = recall_score(y_test, y_pred, average='binary')\n",
        "me_f1 = f1_score(y_test, y_pred,average='binary')\n",
        "# 手动计算G-mean\n",
        "def gmean_manual(y_true, y_pred):\n",
        "    cm = confusion_matrix(y_true, y_pred)\n",
        "    sensitivity = cm[1, 1] / (cm[1, 0] + cm[1, 1])\n",
        "    specificity = cm[0, 0] / (cm[0, 0] + cm[0, 1])\n",
        "    return np.sqrt(sensitivity * specificity)\n",
        "\n",
        "me_gmean = gmean_manual(y_test, y_pred)\n",
        "\n",
        "\n",
        "print(f\"Accuracy: {me_accuracy:.2f}\")\n",
        "print(f\"Balanced Accuracy: {me_balanced_accuracy:.2f}\")\n",
        "print(f\"Matthews Correlation Coefficient: {me_mcc:.2f}\")\n",
        "print(f\"Recall: {me_recall:.2f}\")\n",
        "print(f\"Precision: {me_precision:.2f}\")\n",
        "print(f\"F1-score: {me_f1:.2f}\")\n",
        "print(f\"gmean: {me_gmean:.2f}\")"
      ]
    },
    {
      "cell_type": "code",
      "execution_count": null,
      "metadata": {
        "colab": {
          "base_uri": "https://localhost:8080/"
        },
        "id": "U9qSxdMH860k",
        "outputId": "8237ce99-6315-476a-8688-a0f3bd9f3db7"
      },
      "outputs": [
        {
          "name": "stdout",
          "output_type": "stream",
          "text": [
            "Class 0 - Precision: 0.9328907231293737, Recall: 0.9057096816340752, F1: 0.9190992862351667\n",
            "Class 1 - Precision: 0.2961638491547464, Recall: 0.37847943498130454, F1: 0.33229983585628303\n"
          ]
        }
      ],
      "source": [
        "from sklearn.metrics import precision_score, recall_score, f1_score\n",
        "\n",
        "# 确保y_test和y_pred是二元分类的标签\n",
        "# 假设类别是0和1\n",
        "\n",
        "# 类别0的性能指标\n",
        "precision_0 = precision_score(y_test, y_pred, pos_label=0)\n",
        "recall_0 = recall_score(y_test, y_pred, pos_label=0)\n",
        "f1_0 = f1_score(y_test, y_pred, pos_label=0)\n",
        "\n",
        "# 类别1的性能指标\n",
        "precision_1 = precision_score(y_test, y_pred, pos_label=1)\n",
        "recall_1 = recall_score(y_test, y_pred, pos_label=1)\n",
        "f1_1 = f1_score(y_test, y_pred, pos_label=1)\n",
        "\n",
        "# 打印结果\n",
        "print(f\"Class 0 - Precision: {precision_0}, Recall: {recall_0}, F1: {f1_0}\")\n",
        "print(f\"Class 1 - Precision: {precision_1}, Recall: {recall_1}, F1: {f1_1}\")\n"
      ]
    },
    {
      "cell_type": "code",
      "execution_count": null,
      "metadata": {
        "id": "AYaFnnWOPYgH"
      },
      "outputs": [],
      "source": [
        "# 評估模型性能，計算ROC AUC分數\n",
        "auc_score = roc_auc_score(y_test, y_pred)\n",
        "print(f\"ROC AUC score: {auc_score:.2f}\")\n",
        "\n",
        "# 計算並顯示精確度、召回率和F1分數\n",
        "precision = precision_score(y_test, y_pred, average='macro', zero_division=0)\n",
        "recall = recall_score(y_test, y_pred, average='macro', zero_division=0)\n",
        "f1 = f1_score(y_test, y_pred, average='macro', zero_division=0)\n",
        "\n",
        "print(f\"Model precision on test set: {precision:.2f}\")\n",
        "print(f\"Model recall on test set: {recall:.2f}\")\n",
        "print(f\"Model F1-Score on test set: {f1:.2f}\")\n"
      ]
    },
    {
      "cell_type": "markdown",
      "source": [
        "### **AdaBoost**"
      ],
      "metadata": {
        "id": "PNHay6bmx3jB"
      }
    },
    {
      "cell_type": "code",
      "source": [
        "#https://www.kaggle.com/code/shashwat422/credit-card-fraud-detection-adaboost-randomforest\n",
        "from sklearn import ensemble\n",
        "\n",
        "# Creating classifier Object\n",
        "ada = ensemble.AdaBoostClassifier(n_estimators=140,learning_rate=0.8,random_state=7)\n",
        "# ada = ensemble.AdaBoostClassifier(base_estimator=DecisionTreeClassifier(max_depth=1))\n",
        "# ada.set_params(n_estimators=100)\n",
        "#Fitting the classifier to training data\n",
        "ada.fit(x_train,y_train)\n",
        "\n",
        "# Making Predictions\n",
        "y_pred = ada.predict(x_test)\n",
        "\n",
        "print(\"Traing Score:%f\"%ada.score(x_train,y_train))\n",
        "print(\"Testing Score:%f\"%ada.score(x_test,y_test))"
      ],
      "metadata": {
        "colab": {
          "base_uri": "https://localhost:8080/"
        },
        "id": "_RqUfuUmxxHw",
        "outputId": "71f08f12-42b2-4f3f-efb1-13708c0aed13"
      },
      "execution_count": null,
      "outputs": [
        {
          "output_type": "stream",
          "name": "stdout",
          "text": [
            "Traing Score:0.920655\n",
            "Testing Score:0.889784\n"
          ]
        }
      ]
    },
    {
      "cell_type": "code",
      "source": [
        "from sklearn.metrics import accuracy_score, balanced_accuracy_score, recall_score, precision_score\n",
        "from sklearn.metrics import matthews_corrcoef\n",
        "\n",
        "# y_pred, _ = meboost.predict(x_test)\n",
        "# 计算各个指标\n",
        "ad_accuracy = accuracy_score(y_test, y_pred)\n",
        "ad_balanced_accuracy = balanced_accuracy_score(y_test, y_pred)\n",
        "ad_recall = recall_score(y_test, y_pred, average='binary')\n",
        "# ad_recall2 = recall_score(y_test, y_pred, average=None)\n",
        "ad_precision = precision_score(y_test, y_pred, average='binary')\n",
        "ad_f1 = f1_score(y_test, y_pred, average='binary')\n",
        "ad_roc_auc = roc_auc_score(y_test, y_pred)\n",
        "\n",
        "# 手动计算G-mean\n",
        "def gmean_manual(y_true, y_pred):\n",
        "    cm = confusion_matrix(y_true, y_pred)\n",
        "    sensitivity = cm[1, 1] / (cm[1, 0] + cm[1, 1])\n",
        "    specificity = cm[0, 0] / (cm[0, 0] + cm[0, 1])\n",
        "    return np.sqrt(sensitivity * specificity)\n",
        "\n",
        "ad_gmean = gmean_manual(y_test, y_pred)\n",
        "\n",
        "ad_mcc = matthews_corrcoef(y_test, y_pred)\n",
        "\n",
        "# 打印结果\n",
        "print('AdaBoost + SMOTE: \\n')\n",
        "print(f\"Accuracy: {ad_accuracy:.2f}\")\n",
        "print(f\"Balanced Accuracy: {ad_balanced_accuracy:.2f}\")\n",
        "print(f\"Recall: {ad_recall:.2f}\")\n",
        "# print(f\"Recall for yes: {me_recall2[1]:.2f}\")\n",
        "# print(f\"Recall for no: {me_recall2[0]:.2f}\")\n",
        "print(f\"Precision: {ad_precision:.2f}\")\n",
        "print(f\"G-Mean: {ad_gmean:.2f}\")\n",
        "print(f\"ROC AUC: {ad_roc_auc:.2f}\")\n",
        "print(f\"F1 Score: {ad_f1:.2f}\")\n",
        "print(\"Matthews Correlation Coefficient:\", ad_mcc)"
      ],
      "metadata": {
        "colab": {
          "base_uri": "https://localhost:8080/"
        },
        "id": "wrb0LURAx2To",
        "outputId": "181f7890-f197-493b-cc50-d2bdb9f8051f"
      },
      "execution_count": null,
      "outputs": [
        {
          "output_type": "stream",
          "name": "stdout",
          "text": [
            "AdaBoost + SMOTE: \n",
            "\n",
            "Accuracy: 0.89\n",
            "Balanced Accuracy: 0.63\n",
            "Recall: 0.31\n",
            "Precision: 0.39\n",
            "G-Mean: 0.54\n",
            "ROC AUC: 0.63\n",
            "F1 Score: 0.35\n",
            "Matthews Correlation Coefficient: 0.2893338750855806\n"
          ]
        }
      ]
    },
    {
      "cell_type": "code",
      "source": [
        "from sklearn.model_selection import RandomizedSearchCV\n",
        "from scipy.stats import uniform\n",
        "\n",
        "# 设置模型和参数分布\n",
        "param_distributions = {\n",
        "    'base_estimator__max_depth': [1, 2, 3, 4, 5],\n",
        "    'n_estimators': [50, 100, 150, 200],\n",
        "    'learning_rate': uniform(0.01, 1.0)# 均匀分布从0.01到1.01\n",
        "}\n",
        "\n",
        "# 创建 RandomizedSearchCV 对象\n",
        "random_search = RandomizedSearchCV(estimator=ada, param_distributions=param_distributions, n_iter=50, cv=5, scoring='accuracy', random_state=7)\n",
        "\n",
        "# 执行随机搜索\n",
        "random_search.fit(x_train, y_train)\n",
        "\n",
        "# 最佳参数和模型\n",
        "print(\"最佳参数:\", random_search.best_params_)\n",
        "print(\"最佳模型分数:\", random_search.best_score_)\n"
      ],
      "metadata": {
        "colab": {
          "base_uri": "https://localhost:8080/",
          "height": 367
        },
        "id": "XP9kdAmJ7s_e",
        "outputId": "7a649677-4e7d-450a-feaf-61113bfe0b9b"
      },
      "execution_count": null,
      "outputs": [
        {
          "output_type": "error",
          "ename": "KeyboardInterrupt",
          "evalue": "",
          "traceback": [
            "\u001b[0;31m---------------------------------------------------------------------------\u001b[0m",
            "\u001b[0;31mKeyboardInterrupt\u001b[0m                         Traceback (most recent call last)",
            "\u001b[0;32m<ipython-input-13-3ac23e8aba1f>\u001b[0m in \u001b[0;36m<cell line: 15>\u001b[0;34m()\u001b[0m\n\u001b[1;32m     13\u001b[0m \u001b[0;34m\u001b[0m\u001b[0m\n\u001b[1;32m     14\u001b[0m \u001b[0;31m# 执行随机搜索\u001b[0m\u001b[0;34m\u001b[0m\u001b[0;34m\u001b[0m\u001b[0m\n\u001b[0;32m---> 15\u001b[0;31m \u001b[0mrandom_search\u001b[0m\u001b[0;34m.\u001b[0m\u001b[0mfit\u001b[0m\u001b[0;34m(\u001b[0m\u001b[0mx_train\u001b[0m\u001b[0;34m,\u001b[0m \u001b[0my_train\u001b[0m\u001b[0;34m)\u001b[0m\u001b[0;34m\u001b[0m\u001b[0;34m\u001b[0m\u001b[0m\n\u001b[0m\u001b[1;32m     16\u001b[0m \u001b[0;34m\u001b[0m\u001b[0m\n\u001b[1;32m     17\u001b[0m \u001b[0;31m# 最佳参数和模型\u001b[0m\u001b[0;34m\u001b[0m\u001b[0;34m\u001b[0m\u001b[0m\n",
            "\u001b[0;32m/usr/local/lib/python3.10/dist-packages/sklearn/model_selection/_search.py\u001b[0m in \u001b[0;36mfit\u001b[0;34m(self, X, y, groups, **fit_params)\u001b[0m\n\u001b[1;32m    872\u001b[0m                 \u001b[0;32mreturn\u001b[0m \u001b[0mresults\u001b[0m\u001b[0;34m\u001b[0m\u001b[0;34m\u001b[0m\u001b[0m\n\u001b[1;32m    873\u001b[0m \u001b[0;34m\u001b[0m\u001b[0m\n\u001b[0;32m--> 874\u001b[0;31m             \u001b[0mself\u001b[0m\u001b[0;34m.\u001b[0m\u001b[0m_run_search\u001b[0m\u001b[0;34m(\u001b[0m\u001b[0mevaluate_candidates\u001b[0m\u001b[0;34m)\u001b[0m\u001b[0;34m\u001b[0m\u001b[0;34m\u001b[0m\u001b[0m\n\u001b[0m\u001b[1;32m    875\u001b[0m \u001b[0;34m\u001b[0m\u001b[0m\n\u001b[1;32m    876\u001b[0m             \u001b[0;31m# multimetric is determined here because in the case of a callable\u001b[0m\u001b[0;34m\u001b[0m\u001b[0;34m\u001b[0m\u001b[0m\n",
            "\u001b[0;32m/usr/local/lib/python3.10/dist-packages/sklearn/model_selection/_search.py\u001b[0m in \u001b[0;36m_run_search\u001b[0;34m(self, evaluate_candidates)\u001b[0m\n\u001b[1;32m   1766\u001b[0m     \u001b[0;32mdef\u001b[0m \u001b[0m_run_search\u001b[0m\u001b[0;34m(\u001b[0m\u001b[0mself\u001b[0m\u001b[0;34m,\u001b[0m \u001b[0mevaluate_candidates\u001b[0m\u001b[0;34m)\u001b[0m\u001b[0;34m:\u001b[0m\u001b[0;34m\u001b[0m\u001b[0;34m\u001b[0m\u001b[0m\n\u001b[1;32m   1767\u001b[0m         \u001b[0;34m\"\"\"Search n_iter candidates from param_distributions\"\"\"\u001b[0m\u001b[0;34m\u001b[0m\u001b[0;34m\u001b[0m\u001b[0m\n\u001b[0;32m-> 1768\u001b[0;31m         evaluate_candidates(\n\u001b[0m\u001b[1;32m   1769\u001b[0m             ParameterSampler(\n\u001b[1;32m   1770\u001b[0m                 \u001b[0mself\u001b[0m\u001b[0;34m.\u001b[0m\u001b[0mparam_distributions\u001b[0m\u001b[0;34m,\u001b[0m \u001b[0mself\u001b[0m\u001b[0;34m.\u001b[0m\u001b[0mn_iter\u001b[0m\u001b[0;34m,\u001b[0m \u001b[0mrandom_state\u001b[0m\u001b[0;34m=\u001b[0m\u001b[0mself\u001b[0m\u001b[0;34m.\u001b[0m\u001b[0mrandom_state\u001b[0m\u001b[0;34m\u001b[0m\u001b[0;34m\u001b[0m\u001b[0m\n",
            "\u001b[0;32m/usr/local/lib/python3.10/dist-packages/sklearn/model_selection/_search.py\u001b[0m in \u001b[0;36mevaluate_candidates\u001b[0;34m(candidate_params, cv, more_results)\u001b[0m\n\u001b[1;32m    819\u001b[0m                     )\n\u001b[1;32m    820\u001b[0m \u001b[0;34m\u001b[0m\u001b[0m\n\u001b[0;32m--> 821\u001b[0;31m                 out = parallel(\n\u001b[0m\u001b[1;32m    822\u001b[0m                     delayed(_fit_and_score)(\n\u001b[1;32m    823\u001b[0m                         \u001b[0mclone\u001b[0m\u001b[0;34m(\u001b[0m\u001b[0mbase_estimator\u001b[0m\u001b[0;34m)\u001b[0m\u001b[0;34m,\u001b[0m\u001b[0;34m\u001b[0m\u001b[0;34m\u001b[0m\u001b[0m\n",
            "\u001b[0;32m/usr/local/lib/python3.10/dist-packages/sklearn/utils/parallel.py\u001b[0m in \u001b[0;36m__call__\u001b[0;34m(self, iterable)\u001b[0m\n\u001b[1;32m     61\u001b[0m             \u001b[0;32mfor\u001b[0m \u001b[0mdelayed_func\u001b[0m\u001b[0;34m,\u001b[0m \u001b[0margs\u001b[0m\u001b[0;34m,\u001b[0m \u001b[0mkwargs\u001b[0m \u001b[0;32min\u001b[0m \u001b[0miterable\u001b[0m\u001b[0;34m\u001b[0m\u001b[0;34m\u001b[0m\u001b[0m\n\u001b[1;32m     62\u001b[0m         )\n\u001b[0;32m---> 63\u001b[0;31m         \u001b[0;32mreturn\u001b[0m \u001b[0msuper\u001b[0m\u001b[0;34m(\u001b[0m\u001b[0;34m)\u001b[0m\u001b[0;34m.\u001b[0m\u001b[0m__call__\u001b[0m\u001b[0;34m(\u001b[0m\u001b[0miterable_with_config\u001b[0m\u001b[0;34m)\u001b[0m\u001b[0;34m\u001b[0m\u001b[0;34m\u001b[0m\u001b[0m\n\u001b[0m\u001b[1;32m     64\u001b[0m \u001b[0;34m\u001b[0m\u001b[0m\n\u001b[1;32m     65\u001b[0m \u001b[0;34m\u001b[0m\u001b[0m\n",
            "\u001b[0;32m/usr/local/lib/python3.10/dist-packages/joblib/parallel.py\u001b[0m in \u001b[0;36m__call__\u001b[0;34m(self, iterable)\u001b[0m\n\u001b[1;32m   1861\u001b[0m             \u001b[0moutput\u001b[0m \u001b[0;34m=\u001b[0m \u001b[0mself\u001b[0m\u001b[0;34m.\u001b[0m\u001b[0m_get_sequential_output\u001b[0m\u001b[0;34m(\u001b[0m\u001b[0miterable\u001b[0m\u001b[0;34m)\u001b[0m\u001b[0;34m\u001b[0m\u001b[0;34m\u001b[0m\u001b[0m\n\u001b[1;32m   1862\u001b[0m             \u001b[0mnext\u001b[0m\u001b[0;34m(\u001b[0m\u001b[0moutput\u001b[0m\u001b[0;34m)\u001b[0m\u001b[0;34m\u001b[0m\u001b[0;34m\u001b[0m\u001b[0m\n\u001b[0;32m-> 1863\u001b[0;31m             \u001b[0;32mreturn\u001b[0m \u001b[0moutput\u001b[0m \u001b[0;32mif\u001b[0m \u001b[0mself\u001b[0m\u001b[0;34m.\u001b[0m\u001b[0mreturn_generator\u001b[0m \u001b[0;32melse\u001b[0m \u001b[0mlist\u001b[0m\u001b[0;34m(\u001b[0m\u001b[0moutput\u001b[0m\u001b[0;34m)\u001b[0m\u001b[0;34m\u001b[0m\u001b[0;34m\u001b[0m\u001b[0m\n\u001b[0m\u001b[1;32m   1864\u001b[0m \u001b[0;34m\u001b[0m\u001b[0m\n\u001b[1;32m   1865\u001b[0m         \u001b[0;31m# Let's create an ID that uniquely identifies the current call. If the\u001b[0m\u001b[0;34m\u001b[0m\u001b[0;34m\u001b[0m\u001b[0m\n",
            "\u001b[0;32m/usr/local/lib/python3.10/dist-packages/joblib/parallel.py\u001b[0m in \u001b[0;36m_get_sequential_output\u001b[0;34m(self, iterable)\u001b[0m\n\u001b[1;32m   1790\u001b[0m                 \u001b[0mself\u001b[0m\u001b[0;34m.\u001b[0m\u001b[0mn_dispatched_batches\u001b[0m \u001b[0;34m+=\u001b[0m \u001b[0;36m1\u001b[0m\u001b[0;34m\u001b[0m\u001b[0;34m\u001b[0m\u001b[0m\n\u001b[1;32m   1791\u001b[0m                 \u001b[0mself\u001b[0m\u001b[0;34m.\u001b[0m\u001b[0mn_dispatched_tasks\u001b[0m \u001b[0;34m+=\u001b[0m \u001b[0;36m1\u001b[0m\u001b[0;34m\u001b[0m\u001b[0;34m\u001b[0m\u001b[0m\n\u001b[0;32m-> 1792\u001b[0;31m                 \u001b[0mres\u001b[0m \u001b[0;34m=\u001b[0m \u001b[0mfunc\u001b[0m\u001b[0;34m(\u001b[0m\u001b[0;34m*\u001b[0m\u001b[0margs\u001b[0m\u001b[0;34m,\u001b[0m \u001b[0;34m**\u001b[0m\u001b[0mkwargs\u001b[0m\u001b[0;34m)\u001b[0m\u001b[0;34m\u001b[0m\u001b[0;34m\u001b[0m\u001b[0m\n\u001b[0m\u001b[1;32m   1793\u001b[0m                 \u001b[0mself\u001b[0m\u001b[0;34m.\u001b[0m\u001b[0mn_completed_tasks\u001b[0m \u001b[0;34m+=\u001b[0m \u001b[0;36m1\u001b[0m\u001b[0;34m\u001b[0m\u001b[0;34m\u001b[0m\u001b[0m\n\u001b[1;32m   1794\u001b[0m                 \u001b[0mself\u001b[0m\u001b[0;34m.\u001b[0m\u001b[0mprint_progress\u001b[0m\u001b[0;34m(\u001b[0m\u001b[0;34m)\u001b[0m\u001b[0;34m\u001b[0m\u001b[0;34m\u001b[0m\u001b[0m\n",
            "\u001b[0;32m/usr/local/lib/python3.10/dist-packages/sklearn/utils/parallel.py\u001b[0m in \u001b[0;36m__call__\u001b[0;34m(self, *args, **kwargs)\u001b[0m\n\u001b[1;32m    121\u001b[0m             \u001b[0mconfig\u001b[0m \u001b[0;34m=\u001b[0m \u001b[0;34m{\u001b[0m\u001b[0;34m}\u001b[0m\u001b[0;34m\u001b[0m\u001b[0;34m\u001b[0m\u001b[0m\n\u001b[1;32m    122\u001b[0m         \u001b[0;32mwith\u001b[0m \u001b[0mconfig_context\u001b[0m\u001b[0;34m(\u001b[0m\u001b[0;34m**\u001b[0m\u001b[0mconfig\u001b[0m\u001b[0;34m)\u001b[0m\u001b[0;34m:\u001b[0m\u001b[0;34m\u001b[0m\u001b[0;34m\u001b[0m\u001b[0m\n\u001b[0;32m--> 123\u001b[0;31m             \u001b[0;32mreturn\u001b[0m \u001b[0mself\u001b[0m\u001b[0;34m.\u001b[0m\u001b[0mfunction\u001b[0m\u001b[0;34m(\u001b[0m\u001b[0;34m*\u001b[0m\u001b[0margs\u001b[0m\u001b[0;34m,\u001b[0m \u001b[0;34m**\u001b[0m\u001b[0mkwargs\u001b[0m\u001b[0;34m)\u001b[0m\u001b[0;34m\u001b[0m\u001b[0;34m\u001b[0m\u001b[0m\n\u001b[0m",
            "\u001b[0;32m/usr/local/lib/python3.10/dist-packages/sklearn/model_selection/_validation.py\u001b[0m in \u001b[0;36m_fit_and_score\u001b[0;34m(estimator, X, y, scorer, train, test, verbose, parameters, fit_params, return_train_score, return_parameters, return_n_test_samples, return_times, return_estimator, split_progress, candidate_progress, error_score)\u001b[0m\n\u001b[1;32m    684\u001b[0m             \u001b[0mestimator\u001b[0m\u001b[0;34m.\u001b[0m\u001b[0mfit\u001b[0m\u001b[0;34m(\u001b[0m\u001b[0mX_train\u001b[0m\u001b[0;34m,\u001b[0m \u001b[0;34m**\u001b[0m\u001b[0mfit_params\u001b[0m\u001b[0;34m)\u001b[0m\u001b[0;34m\u001b[0m\u001b[0;34m\u001b[0m\u001b[0m\n\u001b[1;32m    685\u001b[0m         \u001b[0;32melse\u001b[0m\u001b[0;34m:\u001b[0m\u001b[0;34m\u001b[0m\u001b[0;34m\u001b[0m\u001b[0m\n\u001b[0;32m--> 686\u001b[0;31m             \u001b[0mestimator\u001b[0m\u001b[0;34m.\u001b[0m\u001b[0mfit\u001b[0m\u001b[0;34m(\u001b[0m\u001b[0mX_train\u001b[0m\u001b[0;34m,\u001b[0m \u001b[0my_train\u001b[0m\u001b[0;34m,\u001b[0m \u001b[0;34m**\u001b[0m\u001b[0mfit_params\u001b[0m\u001b[0;34m)\u001b[0m\u001b[0;34m\u001b[0m\u001b[0;34m\u001b[0m\u001b[0m\n\u001b[0m\u001b[1;32m    687\u001b[0m \u001b[0;34m\u001b[0m\u001b[0m\n\u001b[1;32m    688\u001b[0m     \u001b[0;32mexcept\u001b[0m \u001b[0mException\u001b[0m\u001b[0;34m:\u001b[0m\u001b[0;34m\u001b[0m\u001b[0;34m\u001b[0m\u001b[0m\n",
            "\u001b[0;32m/usr/local/lib/python3.10/dist-packages/sklearn/ensemble/_weight_boosting.py\u001b[0m in \u001b[0;36mfit\u001b[0;34m(self, X, y, sample_weight)\u001b[0m\n\u001b[1;32m    160\u001b[0m \u001b[0;34m\u001b[0m\u001b[0m\n\u001b[1;32m    161\u001b[0m             \u001b[0;31m# Boosting step\u001b[0m\u001b[0;34m\u001b[0m\u001b[0;34m\u001b[0m\u001b[0m\n\u001b[0;32m--> 162\u001b[0;31m             sample_weight, estimator_weight, estimator_error = self._boost(\n\u001b[0m\u001b[1;32m    163\u001b[0m                 \u001b[0miboost\u001b[0m\u001b[0;34m,\u001b[0m \u001b[0mX\u001b[0m\u001b[0;34m,\u001b[0m \u001b[0my\u001b[0m\u001b[0;34m,\u001b[0m \u001b[0msample_weight\u001b[0m\u001b[0;34m,\u001b[0m \u001b[0mrandom_state\u001b[0m\u001b[0;34m\u001b[0m\u001b[0;34m\u001b[0m\u001b[0m\n\u001b[1;32m    164\u001b[0m             )\n",
            "\u001b[0;32m/usr/local/lib/python3.10/dist-packages/sklearn/ensemble/_weight_boosting.py\u001b[0m in \u001b[0;36m_boost\u001b[0;34m(self, iboost, X, y, sample_weight, random_state)\u001b[0m\n\u001b[1;32m    567\u001b[0m         \"\"\"\n\u001b[1;32m    568\u001b[0m         \u001b[0;32mif\u001b[0m \u001b[0mself\u001b[0m\u001b[0;34m.\u001b[0m\u001b[0malgorithm\u001b[0m \u001b[0;34m==\u001b[0m \u001b[0;34m\"SAMME.R\"\u001b[0m\u001b[0;34m:\u001b[0m\u001b[0;34m\u001b[0m\u001b[0;34m\u001b[0m\u001b[0m\n\u001b[0;32m--> 569\u001b[0;31m             \u001b[0;32mreturn\u001b[0m \u001b[0mself\u001b[0m\u001b[0;34m.\u001b[0m\u001b[0m_boost_real\u001b[0m\u001b[0;34m(\u001b[0m\u001b[0miboost\u001b[0m\u001b[0;34m,\u001b[0m \u001b[0mX\u001b[0m\u001b[0;34m,\u001b[0m \u001b[0my\u001b[0m\u001b[0;34m,\u001b[0m \u001b[0msample_weight\u001b[0m\u001b[0;34m,\u001b[0m \u001b[0mrandom_state\u001b[0m\u001b[0;34m)\u001b[0m\u001b[0;34m\u001b[0m\u001b[0;34m\u001b[0m\u001b[0m\n\u001b[0m\u001b[1;32m    570\u001b[0m \u001b[0;34m\u001b[0m\u001b[0m\n\u001b[1;32m    571\u001b[0m         \u001b[0;32melse\u001b[0m\u001b[0;34m:\u001b[0m  \u001b[0;31m# elif self.algorithm == \"SAMME\":\u001b[0m\u001b[0;34m\u001b[0m\u001b[0;34m\u001b[0m\u001b[0m\n",
            "\u001b[0;32m/usr/local/lib/python3.10/dist-packages/sklearn/ensemble/_weight_boosting.py\u001b[0m in \u001b[0;36m_boost_real\u001b[0;34m(self, iboost, X, y, sample_weight, random_state)\u001b[0m\n\u001b[1;32m    576\u001b[0m         \u001b[0mestimator\u001b[0m \u001b[0;34m=\u001b[0m \u001b[0mself\u001b[0m\u001b[0;34m.\u001b[0m\u001b[0m_make_estimator\u001b[0m\u001b[0;34m(\u001b[0m\u001b[0mrandom_state\u001b[0m\u001b[0;34m=\u001b[0m\u001b[0mrandom_state\u001b[0m\u001b[0;34m)\u001b[0m\u001b[0;34m\u001b[0m\u001b[0;34m\u001b[0m\u001b[0m\n\u001b[1;32m    577\u001b[0m \u001b[0;34m\u001b[0m\u001b[0m\n\u001b[0;32m--> 578\u001b[0;31m         \u001b[0mestimator\u001b[0m\u001b[0;34m.\u001b[0m\u001b[0mfit\u001b[0m\u001b[0;34m(\u001b[0m\u001b[0mX\u001b[0m\u001b[0;34m,\u001b[0m \u001b[0my\u001b[0m\u001b[0;34m,\u001b[0m \u001b[0msample_weight\u001b[0m\u001b[0;34m=\u001b[0m\u001b[0msample_weight\u001b[0m\u001b[0;34m)\u001b[0m\u001b[0;34m\u001b[0m\u001b[0;34m\u001b[0m\u001b[0m\n\u001b[0m\u001b[1;32m    579\u001b[0m \u001b[0;34m\u001b[0m\u001b[0m\n\u001b[1;32m    580\u001b[0m         \u001b[0my_predict_proba\u001b[0m \u001b[0;34m=\u001b[0m \u001b[0mestimator\u001b[0m\u001b[0;34m.\u001b[0m\u001b[0mpredict_proba\u001b[0m\u001b[0;34m(\u001b[0m\u001b[0mX\u001b[0m\u001b[0;34m)\u001b[0m\u001b[0;34m\u001b[0m\u001b[0;34m\u001b[0m\u001b[0m\n",
            "\u001b[0;32m/usr/local/lib/python3.10/dist-packages/sklearn/tree/_classes.py\u001b[0m in \u001b[0;36mfit\u001b[0;34m(self, X, y, sample_weight, check_input)\u001b[0m\n\u001b[1;32m    887\u001b[0m         \"\"\"\n\u001b[1;32m    888\u001b[0m \u001b[0;34m\u001b[0m\u001b[0m\n\u001b[0;32m--> 889\u001b[0;31m         super().fit(\n\u001b[0m\u001b[1;32m    890\u001b[0m             \u001b[0mX\u001b[0m\u001b[0;34m,\u001b[0m\u001b[0;34m\u001b[0m\u001b[0;34m\u001b[0m\u001b[0m\n\u001b[1;32m    891\u001b[0m             \u001b[0my\u001b[0m\u001b[0;34m,\u001b[0m\u001b[0;34m\u001b[0m\u001b[0;34m\u001b[0m\u001b[0m\n",
            "\u001b[0;32m/usr/local/lib/python3.10/dist-packages/sklearn/tree/_classes.py\u001b[0m in \u001b[0;36mfit\u001b[0;34m(self, X, y, sample_weight, check_input)\u001b[0m\n\u001b[1;32m    377\u001b[0m             )\n\u001b[1;32m    378\u001b[0m \u001b[0;34m\u001b[0m\u001b[0m\n\u001b[0;32m--> 379\u001b[0;31m         \u001b[0mbuilder\u001b[0m\u001b[0;34m.\u001b[0m\u001b[0mbuild\u001b[0m\u001b[0;34m(\u001b[0m\u001b[0mself\u001b[0m\u001b[0;34m.\u001b[0m\u001b[0mtree_\u001b[0m\u001b[0;34m,\u001b[0m \u001b[0mX\u001b[0m\u001b[0;34m,\u001b[0m \u001b[0my\u001b[0m\u001b[0;34m,\u001b[0m \u001b[0msample_weight\u001b[0m\u001b[0;34m)\u001b[0m\u001b[0;34m\u001b[0m\u001b[0;34m\u001b[0m\u001b[0m\n\u001b[0m\u001b[1;32m    380\u001b[0m \u001b[0;34m\u001b[0m\u001b[0m\n\u001b[1;32m    381\u001b[0m         \u001b[0;32mif\u001b[0m \u001b[0mself\u001b[0m\u001b[0;34m.\u001b[0m\u001b[0mn_outputs_\u001b[0m \u001b[0;34m==\u001b[0m \u001b[0;36m1\u001b[0m \u001b[0;32mand\u001b[0m \u001b[0mis_classifier\u001b[0m\u001b[0;34m(\u001b[0m\u001b[0mself\u001b[0m\u001b[0;34m)\u001b[0m\u001b[0;34m:\u001b[0m\u001b[0;34m\u001b[0m\u001b[0;34m\u001b[0m\u001b[0m\n",
            "\u001b[0;31mKeyboardInterrupt\u001b[0m: "
          ]
        }
      ]
    },
    {
      "cell_type": "code",
      "source": [
        "import seaborn as sns\n",
        "import pandas as pd\n",
        "import matplotlib.pyplot as plt\n",
        "\n",
        "# Data excluding 'Accuracy'\n",
        "metrics = ['Balanced Accuracy', 'Recall', 'Precision', 'G-Mean', 'ROC AUC', 'F1 Score', 'Matthews Corr. Coef.']\n",
        "values = [0.9, 0.8, 0.71, 0.89, 0.9, 0.75, 0.75]\n",
        "\n",
        "# Convert data into a DataFrame\n",
        "df = pd.DataFrame({'Metric': metrics, 'Value': values})\n",
        "\n",
        "# Set the aesthetic style of the plots\n",
        "sns.set_style(\"whitegrid\")\n",
        "\n",
        "# Create a bar plot\n",
        "plt.figure(figsize=(10, 6))\n",
        "barplot = sns.barplot(x='Metric', y='Value', data=df, palette='pastel')\n",
        "\n",
        "# Add value labels on top of the bars\n",
        "for index, value in enumerate(values):\n",
        "    plt.text(x=index, y=value, s=f\"{value:.2f}\", ha='center', va='bottom')\n",
        "\n",
        "# Set the labels and title\n",
        "plt.xlabel('')\n",
        "plt.ylabel('Value')\n",
        "plt.title('MEBoost Performance Metrics Without Accuracy')\n",
        "\n",
        "# Remove the legend as it's unnecessary for a single dataset\n",
        "plt.legend([],[], frameon=False)\n",
        "\n",
        "# Adjust the layout and show the plot\n",
        "plt.tight_layout()\n",
        "plt.show()\n"
      ],
      "metadata": {
        "colab": {
          "base_uri": "https://localhost:8080/",
          "height": 711
        },
        "id": "BC1ZYFPJBDCa",
        "outputId": "283fd817-7bd9-4d4e-9cfb-69c5834f3289"
      },
      "execution_count": null,
      "outputs": [
        {
          "output_type": "stream",
          "name": "stderr",
          "text": [
            "<ipython-input-2-c67fb29aa806>:17: FutureWarning: \n",
            "\n",
            "Passing `palette` without assigning `hue` is deprecated and will be removed in v0.14.0. Assign the `x` variable to `hue` and set `legend=False` for the same effect.\n",
            "\n",
            "  barplot = sns.barplot(x='Metric', y='Value', data=df, palette='pastel')\n"
          ]
        },
        {
          "output_type": "display_data",
          "data": {
            "text/plain": [
              "<Figure size 1000x600 with 1 Axes>"
            ],
            "image/png": "[encoded data removed]"
          },
          "metadata": {}
        }
      ]
    }
  ],
  "metadata": {
    "colab": {
      "provenance": []
    },
    "kernelspec": {
      "display_name": "Python 3",
      "name": "python3"
    },
    "language_info": {
      "name": "python"
    }
  },
  "nbformat": 4,
  "nbformat_minor": 0
}